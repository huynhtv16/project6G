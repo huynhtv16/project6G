{
  "cells": [
    {
      "cell_type": "code",
      "execution_count": null,
      "metadata": {
        "colab": {
          "base_uri": "https://localhost:8080/"
        },
        "id": "bn8OxLj0eVPC",
        "outputId": "51e6d9e9-5859-42c5-b7e5-9eaf7cdfed7d"
      },
      "outputs": [
        {
          "name": "stdout",
          "output_type": "stream",
          "text": [
            "Mounted at /content/drive\n"
          ]
        }
      ],
      "source": [
        "from google.colab import drive\n",
        "drive.mount('/content/drive')"
      ]
    },
    {
      "cell_type": "code",
      "execution_count": null,
      "metadata": {
        "colab": {
          "base_uri": "https://localhost:8080/"
        },
        "id": "GXAhDllraqAQ",
        "outputId": "7f2ae7d3-8ff8-4ad5-9038-4f0396adbaa1"
      },
      "outputs": [
        {
          "name": "stdout",
          "output_type": "stream",
          "text": [
            "Requirement already satisfied: pandas in /usr/local/lib/python3.10/dist-packages (2.2.2)\n",
            "Requirement already satisfied: numpy in /usr/local/lib/python3.10/dist-packages (1.26.4)\n",
            "Requirement already satisfied: seaborn in /usr/local/lib/python3.10/dist-packages (0.13.2)\n",
            "Requirement already satisfied: scikit-learn in /usr/local/lib/python3.10/dist-packages (1.5.2)\n",
            "Requirement already satisfied: dask[dataframe] in /usr/local/lib/python3.10/dist-packages (2024.10.0)\n",
            "Requirement already satisfied: python-dateutil>=2.8.2 in /usr/local/lib/python3.10/dist-packages (from pandas) (2.8.2)\n",
            "Requirement already satisfied: pytz>=2020.1 in /usr/local/lib/python3.10/dist-packages (from pandas) (2024.2)\n",
            "Requirement already satisfied: tzdata>=2022.7 in /usr/local/lib/python3.10/dist-packages (from pandas) (2024.2)\n",
            "Requirement already satisfied: matplotlib!=3.6.1,>=3.4 in /usr/local/lib/python3.10/dist-packages (from seaborn) (3.8.0)\n",
            "Requirement already satisfied: scipy>=1.6.0 in /usr/local/lib/python3.10/dist-packages (from scikit-learn) (1.13.1)\n",
            "Requirement already satisfied: joblib>=1.2.0 in /usr/local/lib/python3.10/dist-packages (from scikit-learn) (1.4.2)\n",
            "Requirement already satisfied: threadpoolctl>=3.1.0 in /usr/local/lib/python3.10/dist-packages (from scikit-learn) (3.5.0)\n",
            "Requirement already satisfied: click>=8.1 in /usr/local/lib/python3.10/dist-packages (from dask[dataframe]) (8.1.7)\n",
            "Requirement already satisfied: cloudpickle>=3.0.0 in /usr/local/lib/python3.10/dist-packages (from dask[dataframe]) (3.1.0)\n",
            "Requirement already satisfied: fsspec>=2021.09.0 in /usr/local/lib/python3.10/dist-packages (from dask[dataframe]) (2024.10.0)\n",
            "Requirement already satisfied: packaging>=20.0 in /usr/local/lib/python3.10/dist-packages (from dask[dataframe]) (24.2)\n",
            "Requirement already satisfied: partd>=1.4.0 in /usr/local/lib/python3.10/dist-packages (from dask[dataframe]) (1.4.2)\n",
            "Requirement already satisfied: pyyaml>=5.3.1 in /usr/local/lib/python3.10/dist-packages (from dask[dataframe]) (6.0.2)\n",
            "Requirement already satisfied: toolz>=0.10.0 in /usr/local/lib/python3.10/dist-packages (from dask[dataframe]) (0.12.1)\n",
            "Requirement already satisfied: importlib-metadata>=4.13.0 in /usr/local/lib/python3.10/dist-packages (from dask[dataframe]) (8.5.0)\n",
            "Collecting dask-expr<1.2,>=1.1 (from dask[dataframe])\n",
            "  Downloading dask_expr-1.1.19-py3-none-any.whl.metadata (2.6 kB)\n",
            "INFO: pip is looking at multiple versions of dask-expr to determine which version is compatible with other requirements. This could take a while.\n",
            "  Downloading dask_expr-1.1.18-py3-none-any.whl.metadata (2.6 kB)\n",
            "  Downloading dask_expr-1.1.16-py3-none-any.whl.metadata (2.5 kB)\n",
            "Requirement already satisfied: pyarrow>=14.0.1 in /usr/local/lib/python3.10/dist-packages (from dask-expr<1.2,>=1.1->dask[dataframe]) (17.0.0)\n",
            "Requirement already satisfied: zipp>=3.20 in /usr/local/lib/python3.10/dist-packages (from importlib-metadata>=4.13.0->dask[dataframe]) (3.21.0)\n",
            "Requirement already satisfied: contourpy>=1.0.1 in /usr/local/lib/python3.10/dist-packages (from matplotlib!=3.6.1,>=3.4->seaborn) (1.3.1)\n",
            "Requirement already satisfied: cycler>=0.10 in /usr/local/lib/python3.10/dist-packages (from matplotlib!=3.6.1,>=3.4->seaborn) (0.12.1)\n",
            "Requirement already satisfied: fonttools>=4.22.0 in /usr/local/lib/python3.10/dist-packages (from matplotlib!=3.6.1,>=3.4->seaborn) (4.55.0)\n",
            "Requirement already satisfied: kiwisolver>=1.0.1 in /usr/local/lib/python3.10/dist-packages (from matplotlib!=3.6.1,>=3.4->seaborn) (1.4.7)\n",
            "Requirement already satisfied: pillow>=6.2.0 in /usr/local/lib/python3.10/dist-packages (from matplotlib!=3.6.1,>=3.4->seaborn) (11.0.0)\n",
            "Requirement already satisfied: pyparsing>=2.3.1 in /usr/local/lib/python3.10/dist-packages (from matplotlib!=3.6.1,>=3.4->seaborn) (3.2.0)\n",
            "Requirement already satisfied: locket in /usr/local/lib/python3.10/dist-packages (from partd>=1.4.0->dask[dataframe]) (1.0.0)\n",
            "Requirement already satisfied: six>=1.5 in /usr/local/lib/python3.10/dist-packages (from python-dateutil>=2.8.2->pandas) (1.16.0)\n",
            "Downloading dask_expr-1.1.16-py3-none-any.whl (243 kB)\n",
            "\u001b[2K   \u001b[90m━━━━━━━━━━━━━━━━━━━━━━━━━━━━━━━━━━━━━━━━\u001b[0m \u001b[32m243.2/243.2 kB\u001b[0m \u001b[31m4.1 MB/s\u001b[0m eta \u001b[36m0:00:00\u001b[0m\n",
            "\u001b[?25hInstalling collected packages: dask-expr\n",
            "Successfully installed dask-expr-1.1.16\n"
          ]
        }
      ],
      "source": [
        "!pip install pandas numpy seaborn scikit-learn dask[dataframe]"
      ]
    },
    {
      "cell_type": "code",
      "execution_count": 1,
      "metadata": {
        "id": "WBQcR3zxuS0S"
      },
      "outputs": [],
      "source": [
        "# Import necessary libraries\n",
        "import pandas as pd\n",
        "import numpy as np\n",
        "import matplotlib.pyplot as plt\n",
        "import ipaddress\n",
        "import seaborn as sns\n",
        "import dask.dataframe as dd\n",
        "import glob\n",
        "import os\n",
        "from sklearn.model_selection import train_test_split\n",
        "from sklearn.preprocessing import LabelEncoder, StandardScaler\n",
        "from sklearn.feature_selection import VarianceThreshold\n",
        "from sklearn.naive_bayes import GaussianNB\n",
        "from sklearn.ensemble import RandomForestClassifier\n",
        "from sklearn.neighbors import KNeighborsClassifier\n",
        "from sklearn.svm import SVC\n",
        "from sklearn.linear_model import LogisticRegression\n",
        "from sklearn.metrics import accuracy_score, classification_report, confusion_matrix"
      ]
    },
    {
      "cell_type": "markdown",
      "metadata": {
        "id": "Fwnd87mDuUhm"
      },
      "source": [
        "# Step 1: Data Preprocessing"
      ]
    },
    {
      "cell_type": "code",
      "execution_count": null,
      "metadata": {
        "id": "V0923fDSRGip"
      },
      "outputs": [],
      "source": [
        "# from google.colab import drive\n",
        "# drive.mount('/content/drive')"
      ]
    },
    {
      "cell_type": "code",
      "execution_count": null,
      "metadata": {
        "id": "pu6K47EdRKXv"
      },
      "outputs": [],
      "source": [
        "# !ls drive/MyDrive/'Colab Notebooks'/'Computer Networks '/ddos_sample.csv"
      ]
    },
    {
      "cell_type": "code",
      "execution_count": null,
      "metadata": {
        "id": "hq6w4LjhuVq4"
      },
      "outputs": [],
      "source": [
        "# # # Load your dataset (replace 'your_dataset.csv' with the actual file path)\n",
        "# # data = pd.read_csv('drive/MyDrive/Colab Notebooks/Computer Networks /ddos_sample.csv')\n",
        "\n",
        "# # Load the dataset (adjust the file path accordingly)\n",
        "# csv_files = glob.glob('/content/drive/MyDrive/AI-Security/dataset/CSVs/01-12/*.csv')\n",
        "\n",
        "# data = pd.DataFrame()\n",
        "\n",
        "# for csv_file in csv_files:\n",
        "#     print(csv_file)\n",
        "#     df = pd.read_csv(csv_file,low_memory=False)\n",
        "#     data = pd.concat([data, df])\n",
        "\n",
        "# data.columns = data.columns.str.strip()"
      ]
    },
    {
      "cell_type": "code",
      "execution_count": null,
      "metadata": {
        "colab": {
          "base_uri": "https://localhost:8080/"
        },
        "id": "5Pk0Rs6NYHKf",
        "outputId": "0b8134cb-ba00-4d04-ed8a-587604dd8738"
      },
      "outputs": [
        {
          "name": "stdout",
          "output_type": "stream",
          "text": [
            "Đang xử lý: /content/drive/MyDrive/AI-Security/dataset/CSVs/01-12/DrDoS_LDAP.csv\n",
            "Đang xử lý: /content/drive/MyDrive/AI-Security/dataset/CSVs/01-12/DrDoS_MSSQL.csv\n",
            "Đang xử lý: /content/drive/MyDrive/AI-Security/dataset/CSVs/01-12/DrDoS_NetBIOS.csv\n",
            "Đang xử lý: /content/drive/MyDrive/AI-Security/dataset/CSVs/01-12/DrDoS_DNS.csv\n",
            "Đang xử lý: /content/drive/MyDrive/AI-Security/dataset/CSVs/01-12/DrDoS_NTP.csv\n"
          ]
        }
      ],
      "source": [
        "import dask.dataframe as dd\n",
        "import glob\n",
        "import os\n",
        "\n",
        "# Đường dẫn tới các tệp CSV\n",
        "csv_files = glob.glob('/content/drive/MyDrive/AI-Security/dataset/CSVs/01-12/*.csv')\n",
        "\n",
        "# Thư mục lưu các tệp Parquet\n",
        "output_dir = '/content/drive/MyDrive/AI-Security/dataset/Parquet-03/'\n",
        "\n",
        "# Tạo thư mục nếu chưa tồn tại\n",
        "os.makedirs(output_dir, exist_ok=True)\n",
        "\n",
        "# Khởi tạo một DataFrame rỗng từ pandas\n",
        "data = dd.from_pandas(pd.DataFrame(), npartitions=1)\n",
        "\n",
        "# # Duyệt qua từng tệp CSV và hợp nhất dữ liệu\n",
        "# for csv_file in csv_files:\n",
        "#     print(f\"Đang xử lý: {csv_file}\")\n",
        "\n",
        "#     # Đọc tệp CSV với dask và xử lý kiểu dữ liệu cụ thể nếu cần\n",
        "#     df = dd.read_csv(csv_file, dtype={'SimillarHTTP': 'object'}, low_memory=False)\n",
        "\n",
        "#     # Loại bỏ khoảng trắng trong tên cột\n",
        "#     df.columns = df.columns.str.strip()\n",
        "\n",
        "#     # Hợp nhất dữ liệu từ các tệp CSV\n",
        "#     data = dd.concat([data, df], axis=0)\n",
        "\n",
        "# Duyệt qua từng tệp CSV và hợp nhất dữ liệu\n",
        "for csv_file in csv_files:\n",
        "    print(f\"Đang xử lý: {csv_file}\")\n",
        "\n",
        "    # Đọc tệp CSV với dask và xử lý kiểu dữ liệu cụ thể nếu cần\n",
        "    df = dd.read_csv(csv_file, dtype={'SimillarHTTP': 'object'}, low_memory=False)\n",
        "\n",
        "    # Loại bỏ khoảng trắng trong tên cột\n",
        "    df.columns = df.columns.str.strip()\n",
        "\n",
        "    # Lấy ngẫu nhiên 1/30 dữ liệu từ tệp hiện tại\n",
        "    sample_fraction = 1 / 30  # Tỷ lệ mẫu ngẫu nhiên\n",
        "    df_sampled = df.sample(frac=sample_fraction, random_state=42)\n",
        "\n",
        "    # Hợp nhất dữ liệu từ các tệp CSV\n",
        "    data = dd.concat([data, df_sampled], axis=0)\n",
        "\n",
        "\n",
        "# # Lưu từng tệp Parquet riêng\n",
        "# for i, csv_file in enumerate(csv_files):\n",
        "#     file_name = os.path.basename(csv_file).replace('.csv', '.parquet')\n",
        "#     output_path = os.path.join(output_dir, file_name)\n",
        "\n",
        "#     # Đọc lại từng tệp CSV để tạo lại dataframe cho mỗi tệp\n",
        "#     df = dd.read_csv(csv_file, dtype={'SimillarHTTP': 'object'})\n",
        "\n",
        "#     # Loại bỏ khoảng trắng trong tên cột\n",
        "#     df.columns = df.columns.str.strip()\n",
        "\n",
        "#     # Ghi tệp Parquet riêng cho từng tệp CSV\n",
        "#     df.to_parquet(output_path, engine='pyarrow', write_index=False)\n",
        "\n",
        "#     print(f\"Đã lưu Parquet: {output_path}\")\n",
        "\n",
        "# print(\"Hoàn thành chuyển đổi tất cả CSV sang Parquet.\")\n"
      ]
    },
    {
      "cell_type": "code",
      "execution_count": null,
      "metadata": {
        "colab": {
          "base_uri": "https://localhost:8080/"
        },
        "id": "s0Q2qe4j4jNb",
        "outputId": "f5aa1e1b-3bc7-40f3-bddb-6edc8995c371"
      },
      "outputs": [
        {
          "name": "stdout",
          "output_type": "stream",
          "text": [
            "['Unnamed: 0', 'Flow ID', 'Source IP', 'Source Port', 'Destination IP', 'Destination Port', 'Protocol', 'Timestamp', 'Flow Duration', 'Total Fwd Packets', 'Total Backward Packets', 'Total Length of Fwd Packets', 'Total Length of Bwd Packets', 'Fwd Packet Length Max', 'Fwd Packet Length Min', 'Fwd Packet Length Mean', 'Fwd Packet Length Std', 'Bwd Packet Length Max', 'Bwd Packet Length Min', 'Bwd Packet Length Mean', 'Bwd Packet Length Std', 'Flow Bytes/s', 'Flow Packets/s', 'Flow IAT Mean', 'Flow IAT Std', 'Flow IAT Max', 'Flow IAT Min', 'Fwd IAT Total', 'Fwd IAT Mean', 'Fwd IAT Std', 'Fwd IAT Max', 'Fwd IAT Min', 'Bwd IAT Total', 'Bwd IAT Mean', 'Bwd IAT Std', 'Bwd IAT Max', 'Bwd IAT Min', 'Fwd PSH Flags', 'Bwd PSH Flags', 'Fwd URG Flags', 'Bwd URG Flags', 'Fwd Header Length', 'Bwd Header Length', 'Fwd Packets/s', 'Bwd Packets/s', 'Min Packet Length', 'Max Packet Length', 'Packet Length Mean', 'Packet Length Std', 'Packet Length Variance', 'FIN Flag Count', 'SYN Flag Count', 'RST Flag Count', 'PSH Flag Count', 'ACK Flag Count', 'URG Flag Count', 'CWE Flag Count', 'ECE Flag Count', 'Down/Up Ratio', 'Average Packet Size', 'Avg Fwd Segment Size', 'Avg Bwd Segment Size', 'Fwd Header Length.1', 'Fwd Avg Bytes/Bulk', 'Fwd Avg Packets/Bulk', 'Fwd Avg Bulk Rate', 'Bwd Avg Bytes/Bulk', 'Bwd Avg Packets/Bulk', 'Bwd Avg Bulk Rate', 'Subflow Fwd Packets', 'Subflow Fwd Bytes', 'Subflow Bwd Packets', 'Subflow Bwd Bytes', 'Init_Win_bytes_forward', 'Init_Win_bytes_backward', 'act_data_pkt_fwd', 'min_seg_size_forward', 'Active Mean', 'Active Std', 'Active Max', 'Active Min', 'Idle Mean', 'Idle Std', 'Idle Max', 'Idle Min', 'SimillarHTTP', 'Inbound', 'Label']\n"
          ]
        }
      ],
      "source": [
        "keys = data.columns.tolist()\n",
        "\n",
        "print(keys)"
      ]
    },
    {
      "cell_type": "code",
      "execution_count": null,
      "metadata": {
        "colab": {
          "base_uri": "https://localhost:8080/",
          "height": 999
        },
        "id": "jL_mTq9Duk3v",
        "outputId": "d1737591-0c4d-46d8-b3b7-67c5e849436d"
      },
      "outputs": [
        {
          "data": {
            "application/vnd.google.colaboratory.intrinsic+json": {
              "type": "dataframe"
            },
            "text/html": [
              "\n",
              "  <div id=\"df-d11b5512-84fc-4163-98fa-7f7478c4ea1f\" class=\"colab-df-container\">\n",
              "    <div>\n",
              "<style scoped>\n",
              "    .dataframe tbody tr th:only-of-type {\n",
              "        vertical-align: middle;\n",
              "    }\n",
              "\n",
              "    .dataframe tbody tr th {\n",
              "        vertical-align: top;\n",
              "    }\n",
              "\n",
              "    .dataframe thead th {\n",
              "        text-align: right;\n",
              "    }\n",
              "</style>\n",
              "<table border=\"1\" class=\"dataframe\">\n",
              "  <thead>\n",
              "    <tr style=\"text-align: right;\">\n",
              "      <th></th>\n",
              "      <th>Unnamed: 0</th>\n",
              "      <th>Flow ID</th>\n",
              "      <th>Source IP</th>\n",
              "      <th>Source Port</th>\n",
              "      <th>Destination IP</th>\n",
              "      <th>Destination Port</th>\n",
              "      <th>Protocol</th>\n",
              "      <th>Timestamp</th>\n",
              "      <th>Flow Duration</th>\n",
              "      <th>Total Fwd Packets</th>\n",
              "      <th>...</th>\n",
              "      <th>Active Std</th>\n",
              "      <th>Active Max</th>\n",
              "      <th>Active Min</th>\n",
              "      <th>Idle Mean</th>\n",
              "      <th>Idle Std</th>\n",
              "      <th>Idle Max</th>\n",
              "      <th>Idle Min</th>\n",
              "      <th>SimillarHTTP</th>\n",
              "      <th>Inbound</th>\n",
              "      <th>Label</th>\n",
              "    </tr>\n",
              "  </thead>\n",
              "  <tbody>\n",
              "    <tr>\n",
              "      <th>153580</th>\n",
              "      <td>2688</td>\n",
              "      <td>172.16.0.5-192.168.50.1-725-48897-17</td>\n",
              "      <td>172.16.0.5</td>\n",
              "      <td>725</td>\n",
              "      <td>192.168.50.1</td>\n",
              "      <td>48897</td>\n",
              "      <td>17</td>\n",
              "      <td>2018-12-01 11:23:21.420806</td>\n",
              "      <td>1</td>\n",
              "      <td>2</td>\n",
              "      <td>...</td>\n",
              "      <td>0.0</td>\n",
              "      <td>0.0</td>\n",
              "      <td>0.0</td>\n",
              "      <td>0.0</td>\n",
              "      <td>0.0</td>\n",
              "      <td>0.0</td>\n",
              "      <td>0.0</td>\n",
              "      <td>0</td>\n",
              "      <td>1</td>\n",
              "      <td>DrDoS_LDAP</td>\n",
              "    </tr>\n",
              "    <tr>\n",
              "      <th>64589</th>\n",
              "      <td>26052</td>\n",
              "      <td>172.16.0.5-192.168.50.1-1007-20052-17</td>\n",
              "      <td>172.16.0.5</td>\n",
              "      <td>1007</td>\n",
              "      <td>192.168.50.1</td>\n",
              "      <td>20052</td>\n",
              "      <td>17</td>\n",
              "      <td>2018-12-01 11:22:57.548046</td>\n",
              "      <td>0</td>\n",
              "      <td>2</td>\n",
              "      <td>...</td>\n",
              "      <td>0.0</td>\n",
              "      <td>0.0</td>\n",
              "      <td>0.0</td>\n",
              "      <td>0.0</td>\n",
              "      <td>0.0</td>\n",
              "      <td>0.0</td>\n",
              "      <td>0.0</td>\n",
              "      <td>0</td>\n",
              "      <td>1</td>\n",
              "      <td>DrDoS_LDAP</td>\n",
              "    </tr>\n",
              "    <tr>\n",
              "      <th>37913</th>\n",
              "      <td>9199</td>\n",
              "      <td>172.16.0.5-192.168.50.1-900-36317-17</td>\n",
              "      <td>172.16.0.5</td>\n",
              "      <td>900</td>\n",
              "      <td>192.168.50.1</td>\n",
              "      <td>36317</td>\n",
              "      <td>17</td>\n",
              "      <td>2018-12-01 11:22:50.452163</td>\n",
              "      <td>1</td>\n",
              "      <td>2</td>\n",
              "      <td>...</td>\n",
              "      <td>0.0</td>\n",
              "      <td>0.0</td>\n",
              "      <td>0.0</td>\n",
              "      <td>0.0</td>\n",
              "      <td>0.0</td>\n",
              "      <td>0.0</td>\n",
              "      <td>0.0</td>\n",
              "      <td>0</td>\n",
              "      <td>1</td>\n",
              "      <td>DrDoS_LDAP</td>\n",
              "    </tr>\n",
              "    <tr>\n",
              "      <th>126650</th>\n",
              "      <td>13489</td>\n",
              "      <td>172.16.0.5-192.168.50.1-900-14702-17</td>\n",
              "      <td>172.16.0.5</td>\n",
              "      <td>900</td>\n",
              "      <td>192.168.50.1</td>\n",
              "      <td>14702</td>\n",
              "      <td>17</td>\n",
              "      <td>2018-12-01 11:23:14.185799</td>\n",
              "      <td>2</td>\n",
              "      <td>2</td>\n",
              "      <td>...</td>\n",
              "      <td>0.0</td>\n",
              "      <td>0.0</td>\n",
              "      <td>0.0</td>\n",
              "      <td>0.0</td>\n",
              "      <td>0.0</td>\n",
              "      <td>0.0</td>\n",
              "      <td>0.0</td>\n",
              "      <td>0</td>\n",
              "      <td>1</td>\n",
              "      <td>DrDoS_LDAP</td>\n",
              "    </tr>\n",
              "    <tr>\n",
              "      <th>3833</th>\n",
              "      <td>12436</td>\n",
              "      <td>172.16.0.5-192.168.50.1-900-16533-17</td>\n",
              "      <td>172.16.0.5</td>\n",
              "      <td>900</td>\n",
              "      <td>192.168.50.1</td>\n",
              "      <td>16533</td>\n",
              "      <td>17</td>\n",
              "      <td>2018-12-01 11:22:41.357739</td>\n",
              "      <td>1</td>\n",
              "      <td>2</td>\n",
              "      <td>...</td>\n",
              "      <td>0.0</td>\n",
              "      <td>0.0</td>\n",
              "      <td>0.0</td>\n",
              "      <td>0.0</td>\n",
              "      <td>0.0</td>\n",
              "      <td>0.0</td>\n",
              "      <td>0.0</td>\n",
              "      <td>0</td>\n",
              "      <td>1</td>\n",
              "      <td>DrDoS_LDAP</td>\n",
              "    </tr>\n",
              "    <tr>\n",
              "      <th>...</th>\n",
              "      <td>...</td>\n",
              "      <td>...</td>\n",
              "      <td>...</td>\n",
              "      <td>...</td>\n",
              "      <td>...</td>\n",
              "      <td>...</td>\n",
              "      <td>...</td>\n",
              "      <td>...</td>\n",
              "      <td>...</td>\n",
              "      <td>...</td>\n",
              "      <td>...</td>\n",
              "      <td>...</td>\n",
              "      <td>...</td>\n",
              "      <td>...</td>\n",
              "      <td>...</td>\n",
              "      <td>...</td>\n",
              "      <td>...</td>\n",
              "      <td>...</td>\n",
              "      <td>...</td>\n",
              "      <td>...</td>\n",
              "      <td>...</td>\n",
              "    </tr>\n",
              "    <tr>\n",
              "      <th>31562</th>\n",
              "      <td>6746</td>\n",
              "      <td>172.16.0.5-192.168.50.1-539-47201-17</td>\n",
              "      <td>172.16.0.5</td>\n",
              "      <td>539</td>\n",
              "      <td>192.168.50.1</td>\n",
              "      <td>47201</td>\n",
              "      <td>17</td>\n",
              "      <td>2018-12-01 10:43:43.063255</td>\n",
              "      <td>1</td>\n",
              "      <td>2</td>\n",
              "      <td>...</td>\n",
              "      <td>0.0</td>\n",
              "      <td>0.0</td>\n",
              "      <td>0.0</td>\n",
              "      <td>0.0</td>\n",
              "      <td>0.0</td>\n",
              "      <td>0.0</td>\n",
              "      <td>0.0</td>\n",
              "      <td>0</td>\n",
              "      <td>1</td>\n",
              "      <td>DrDoS_NTP</td>\n",
              "    </tr>\n",
              "    <tr>\n",
              "      <th>23850</th>\n",
              "      <td>3328</td>\n",
              "      <td>172.16.0.5-192.168.50.1-638-16604-17</td>\n",
              "      <td>172.16.0.5</td>\n",
              "      <td>638</td>\n",
              "      <td>192.168.50.1</td>\n",
              "      <td>16604</td>\n",
              "      <td>17</td>\n",
              "      <td>2018-12-01 10:43:40.554939</td>\n",
              "      <td>0</td>\n",
              "      <td>2</td>\n",
              "      <td>...</td>\n",
              "      <td>0.0</td>\n",
              "      <td>0.0</td>\n",
              "      <td>0.0</td>\n",
              "      <td>0.0</td>\n",
              "      <td>0.0</td>\n",
              "      <td>0.0</td>\n",
              "      <td>0.0</td>\n",
              "      <td>0</td>\n",
              "      <td>1</td>\n",
              "      <td>DrDoS_NTP</td>\n",
              "    </tr>\n",
              "    <tr>\n",
              "      <th>35839</th>\n",
              "      <td>6418</td>\n",
              "      <td>172.16.0.5-192.168.50.1-896-10032-17</td>\n",
              "      <td>172.16.0.5</td>\n",
              "      <td>896</td>\n",
              "      <td>192.168.50.1</td>\n",
              "      <td>10032</td>\n",
              "      <td>17</td>\n",
              "      <td>2018-12-01 10:43:44.809520</td>\n",
              "      <td>1364</td>\n",
              "      <td>18</td>\n",
              "      <td>...</td>\n",
              "      <td>0.0</td>\n",
              "      <td>0.0</td>\n",
              "      <td>0.0</td>\n",
              "      <td>0.0</td>\n",
              "      <td>0.0</td>\n",
              "      <td>0.0</td>\n",
              "      <td>0.0</td>\n",
              "      <td>0</td>\n",
              "      <td>1</td>\n",
              "      <td>DrDoS_NTP</td>\n",
              "    </tr>\n",
              "    <tr>\n",
              "      <th>107902</th>\n",
              "      <td>3609</td>\n",
              "      <td>172.16.0.5-192.168.50.1-819-29425-17</td>\n",
              "      <td>172.16.0.5</td>\n",
              "      <td>819</td>\n",
              "      <td>192.168.50.1</td>\n",
              "      <td>29425</td>\n",
              "      <td>17</td>\n",
              "      <td>2018-12-01 10:44:05.776460</td>\n",
              "      <td>149</td>\n",
              "      <td>16</td>\n",
              "      <td>...</td>\n",
              "      <td>0.0</td>\n",
              "      <td>0.0</td>\n",
              "      <td>0.0</td>\n",
              "      <td>0.0</td>\n",
              "      <td>0.0</td>\n",
              "      <td>0.0</td>\n",
              "      <td>0.0</td>\n",
              "      <td>0</td>\n",
              "      <td>1</td>\n",
              "      <td>DrDoS_NTP</td>\n",
              "    </tr>\n",
              "    <tr>\n",
              "      <th>12708</th>\n",
              "      <td>6135</td>\n",
              "      <td>172.16.0.5-192.168.50.1-634-18640-17</td>\n",
              "      <td>172.16.0.5</td>\n",
              "      <td>634</td>\n",
              "      <td>192.168.50.1</td>\n",
              "      <td>18640</td>\n",
              "      <td>17</td>\n",
              "      <td>2018-12-01 10:43:36.428116</td>\n",
              "      <td>297</td>\n",
              "      <td>62</td>\n",
              "      <td>...</td>\n",
              "      <td>0.0</td>\n",
              "      <td>0.0</td>\n",
              "      <td>0.0</td>\n",
              "      <td>0.0</td>\n",
              "      <td>0.0</td>\n",
              "      <td>0.0</td>\n",
              "      <td>0.0</td>\n",
              "      <td>0</td>\n",
              "      <td>1</td>\n",
              "      <td>DrDoS_NTP</td>\n",
              "    </tr>\n",
              "  </tbody>\n",
              "</table>\n",
              "<p>569745 rows × 88 columns</p>\n",
              "</div>\n",
              "    <div class=\"colab-df-buttons\">\n",
              "\n",
              "  <div class=\"colab-df-container\">\n",
              "    <button class=\"colab-df-convert\" onclick=\"convertToInteractive('df-d11b5512-84fc-4163-98fa-7f7478c4ea1f')\"\n",
              "            title=\"Convert this dataframe to an interactive table.\"\n",
              "            style=\"display:none;\">\n",
              "\n",
              "  <svg xmlns=\"http://www.w3.org/2000/svg\" height=\"24px\" viewBox=\"0 -960 960 960\">\n",
              "    <path d=\"M120-120v-720h720v720H120Zm60-500h600v-160H180v160Zm220 220h160v-160H400v160Zm0 220h160v-160H400v160ZM180-400h160v-160H180v160Zm440 0h160v-160H620v160ZM180-180h160v-160H180v160Zm440 0h160v-160H620v160Z\"/>\n",
              "  </svg>\n",
              "    </button>\n",
              "\n",
              "  <style>\n",
              "    .colab-df-container {\n",
              "      display:flex;\n",
              "      gap: 12px;\n",
              "    }\n",
              "\n",
              "    .colab-df-convert {\n",
              "      background-color: #E8F0FE;\n",
              "      border: none;\n",
              "      border-radius: 50%;\n",
              "      cursor: pointer;\n",
              "      display: none;\n",
              "      fill: #1967D2;\n",
              "      height: 32px;\n",
              "      padding: 0 0 0 0;\n",
              "      width: 32px;\n",
              "    }\n",
              "\n",
              "    .colab-df-convert:hover {\n",
              "      background-color: #E2EBFA;\n",
              "      box-shadow: 0px 1px 2px rgba(60, 64, 67, 0.3), 0px 1px 3px 1px rgba(60, 64, 67, 0.15);\n",
              "      fill: #174EA6;\n",
              "    }\n",
              "\n",
              "    .colab-df-buttons div {\n",
              "      margin-bottom: 4px;\n",
              "    }\n",
              "\n",
              "    [theme=dark] .colab-df-convert {\n",
              "      background-color: #3B4455;\n",
              "      fill: #D2E3FC;\n",
              "    }\n",
              "\n",
              "    [theme=dark] .colab-df-convert:hover {\n",
              "      background-color: #434B5C;\n",
              "      box-shadow: 0px 1px 3px 1px rgba(0, 0, 0, 0.15);\n",
              "      filter: drop-shadow(0px 1px 2px rgba(0, 0, 0, 0.3));\n",
              "      fill: #FFFFFF;\n",
              "    }\n",
              "  </style>\n",
              "\n",
              "    <script>\n",
              "      const buttonEl =\n",
              "        document.querySelector('#df-d11b5512-84fc-4163-98fa-7f7478c4ea1f button.colab-df-convert');\n",
              "      buttonEl.style.display =\n",
              "        google.colab.kernel.accessAllowed ? 'block' : 'none';\n",
              "\n",
              "      async function convertToInteractive(key) {\n",
              "        const element = document.querySelector('#df-d11b5512-84fc-4163-98fa-7f7478c4ea1f');\n",
              "        const dataTable =\n",
              "          await google.colab.kernel.invokeFunction('convertToInteractive',\n",
              "                                                    [key], {});\n",
              "        if (!dataTable) return;\n",
              "\n",
              "        const docLinkHtml = 'Like what you see? Visit the ' +\n",
              "          '<a target=\"_blank\" href=https://colab.research.google.com/notebooks/data_table.ipynb>data table notebook</a>'\n",
              "          + ' to learn more about interactive tables.';\n",
              "        element.innerHTML = '';\n",
              "        dataTable['output_type'] = 'display_data';\n",
              "        await google.colab.output.renderOutput(dataTable, element);\n",
              "        const docLink = document.createElement('div');\n",
              "        docLink.innerHTML = docLinkHtml;\n",
              "        element.appendChild(docLink);\n",
              "      }\n",
              "    </script>\n",
              "  </div>\n",
              "\n",
              "\n",
              "<div id=\"df-1d6685d3-389f-4725-9dfc-64b0ed502836\">\n",
              "  <button class=\"colab-df-quickchart\" onclick=\"quickchart('df-1d6685d3-389f-4725-9dfc-64b0ed502836')\"\n",
              "            title=\"Suggest charts\"\n",
              "            style=\"display:none;\">\n",
              "\n",
              "<svg xmlns=\"http://www.w3.org/2000/svg\" height=\"24px\"viewBox=\"0 0 24 24\"\n",
              "     width=\"24px\">\n",
              "    <g>\n",
              "        <path d=\"M19 3H5c-1.1 0-2 .9-2 2v14c0 1.1.9 2 2 2h14c1.1 0 2-.9 2-2V5c0-1.1-.9-2-2-2zM9 17H7v-7h2v7zm4 0h-2V7h2v10zm4 0h-2v-4h2v4z\"/>\n",
              "    </g>\n",
              "</svg>\n",
              "  </button>\n",
              "\n",
              "<style>\n",
              "  .colab-df-quickchart {\n",
              "      --bg-color: #E8F0FE;\n",
              "      --fill-color: #1967D2;\n",
              "      --hover-bg-color: #E2EBFA;\n",
              "      --hover-fill-color: #174EA6;\n",
              "      --disabled-fill-color: #AAA;\n",
              "      --disabled-bg-color: #DDD;\n",
              "  }\n",
              "\n",
              "  [theme=dark] .colab-df-quickchart {\n",
              "      --bg-color: #3B4455;\n",
              "      --fill-color: #D2E3FC;\n",
              "      --hover-bg-color: #434B5C;\n",
              "      --hover-fill-color: #FFFFFF;\n",
              "      --disabled-bg-color: #3B4455;\n",
              "      --disabled-fill-color: #666;\n",
              "  }\n",
              "\n",
              "  .colab-df-quickchart {\n",
              "    background-color: var(--bg-color);\n",
              "    border: none;\n",
              "    border-radius: 50%;\n",
              "    cursor: pointer;\n",
              "    display: none;\n",
              "    fill: var(--fill-color);\n",
              "    height: 32px;\n",
              "    padding: 0;\n",
              "    width: 32px;\n",
              "  }\n",
              "\n",
              "  .colab-df-quickchart:hover {\n",
              "    background-color: var(--hover-bg-color);\n",
              "    box-shadow: 0 1px 2px rgba(60, 64, 67, 0.3), 0 1px 3px 1px rgba(60, 64, 67, 0.15);\n",
              "    fill: var(--button-hover-fill-color);\n",
              "  }\n",
              "\n",
              "  .colab-df-quickchart-complete:disabled,\n",
              "  .colab-df-quickchart-complete:disabled:hover {\n",
              "    background-color: var(--disabled-bg-color);\n",
              "    fill: var(--disabled-fill-color);\n",
              "    box-shadow: none;\n",
              "  }\n",
              "\n",
              "  .colab-df-spinner {\n",
              "    border: 2px solid var(--fill-color);\n",
              "    border-color: transparent;\n",
              "    border-bottom-color: var(--fill-color);\n",
              "    animation:\n",
              "      spin 1s steps(1) infinite;\n",
              "  }\n",
              "\n",
              "  @keyframes spin {\n",
              "    0% {\n",
              "      border-color: transparent;\n",
              "      border-bottom-color: var(--fill-color);\n",
              "      border-left-color: var(--fill-color);\n",
              "    }\n",
              "    20% {\n",
              "      border-color: transparent;\n",
              "      border-left-color: var(--fill-color);\n",
              "      border-top-color: var(--fill-color);\n",
              "    }\n",
              "    30% {\n",
              "      border-color: transparent;\n",
              "      border-left-color: var(--fill-color);\n",
              "      border-top-color: var(--fill-color);\n",
              "      border-right-color: var(--fill-color);\n",
              "    }\n",
              "    40% {\n",
              "      border-color: transparent;\n",
              "      border-right-color: var(--fill-color);\n",
              "      border-top-color: var(--fill-color);\n",
              "    }\n",
              "    60% {\n",
              "      border-color: transparent;\n",
              "      border-right-color: var(--fill-color);\n",
              "    }\n",
              "    80% {\n",
              "      border-color: transparent;\n",
              "      border-right-color: var(--fill-color);\n",
              "      border-bottom-color: var(--fill-color);\n",
              "    }\n",
              "    90% {\n",
              "      border-color: transparent;\n",
              "      border-bottom-color: var(--fill-color);\n",
              "    }\n",
              "  }\n",
              "</style>\n",
              "\n",
              "  <script>\n",
              "    async function quickchart(key) {\n",
              "      const quickchartButtonEl =\n",
              "        document.querySelector('#' + key + ' button');\n",
              "      quickchartButtonEl.disabled = true;  // To prevent multiple clicks.\n",
              "      quickchartButtonEl.classList.add('colab-df-spinner');\n",
              "      try {\n",
              "        const charts = await google.colab.kernel.invokeFunction(\n",
              "            'suggestCharts', [key], {});\n",
              "      } catch (error) {\n",
              "        console.error('Error during call to suggestCharts:', error);\n",
              "      }\n",
              "      quickchartButtonEl.classList.remove('colab-df-spinner');\n",
              "      quickchartButtonEl.classList.add('colab-df-quickchart-complete');\n",
              "    }\n",
              "    (() => {\n",
              "      let quickchartButtonEl =\n",
              "        document.querySelector('#df-1d6685d3-389f-4725-9dfc-64b0ed502836 button');\n",
              "      quickchartButtonEl.style.display =\n",
              "        google.colab.kernel.accessAllowed ? 'block' : 'none';\n",
              "    })();\n",
              "  </script>\n",
              "</div>\n",
              "\n",
              "    </div>\n",
              "  </div>\n"
            ],
            "text/plain": [
              "        Unnamed: 0                                Flow ID   Source IP  \\\n",
              "153580        2688   172.16.0.5-192.168.50.1-725-48897-17  172.16.0.5   \n",
              "64589        26052  172.16.0.5-192.168.50.1-1007-20052-17  172.16.0.5   \n",
              "37913         9199   172.16.0.5-192.168.50.1-900-36317-17  172.16.0.5   \n",
              "126650       13489   172.16.0.5-192.168.50.1-900-14702-17  172.16.0.5   \n",
              "3833         12436   172.16.0.5-192.168.50.1-900-16533-17  172.16.0.5   \n",
              "...            ...                                    ...         ...   \n",
              "31562         6746   172.16.0.5-192.168.50.1-539-47201-17  172.16.0.5   \n",
              "23850         3328   172.16.0.5-192.168.50.1-638-16604-17  172.16.0.5   \n",
              "35839         6418   172.16.0.5-192.168.50.1-896-10032-17  172.16.0.5   \n",
              "107902        3609   172.16.0.5-192.168.50.1-819-29425-17  172.16.0.5   \n",
              "12708         6135   172.16.0.5-192.168.50.1-634-18640-17  172.16.0.5   \n",
              "\n",
              "        Source Port Destination IP  Destination Port  Protocol  \\\n",
              "153580          725   192.168.50.1             48897        17   \n",
              "64589          1007   192.168.50.1             20052        17   \n",
              "37913           900   192.168.50.1             36317        17   \n",
              "126650          900   192.168.50.1             14702        17   \n",
              "3833            900   192.168.50.1             16533        17   \n",
              "...             ...            ...               ...       ...   \n",
              "31562           539   192.168.50.1             47201        17   \n",
              "23850           638   192.168.50.1             16604        17   \n",
              "35839           896   192.168.50.1             10032        17   \n",
              "107902          819   192.168.50.1             29425        17   \n",
              "12708           634   192.168.50.1             18640        17   \n",
              "\n",
              "                         Timestamp  Flow Duration  Total Fwd Packets  ...  \\\n",
              "153580  2018-12-01 11:23:21.420806              1                  2  ...   \n",
              "64589   2018-12-01 11:22:57.548046              0                  2  ...   \n",
              "37913   2018-12-01 11:22:50.452163              1                  2  ...   \n",
              "126650  2018-12-01 11:23:14.185799              2                  2  ...   \n",
              "3833    2018-12-01 11:22:41.357739              1                  2  ...   \n",
              "...                            ...            ...                ...  ...   \n",
              "31562   2018-12-01 10:43:43.063255              1                  2  ...   \n",
              "23850   2018-12-01 10:43:40.554939              0                  2  ...   \n",
              "35839   2018-12-01 10:43:44.809520           1364                 18  ...   \n",
              "107902  2018-12-01 10:44:05.776460            149                 16  ...   \n",
              "12708   2018-12-01 10:43:36.428116            297                 62  ...   \n",
              "\n",
              "        Active Std  Active Max  Active Min  Idle Mean  Idle Std  Idle Max  \\\n",
              "153580         0.0         0.0         0.0        0.0       0.0       0.0   \n",
              "64589          0.0         0.0         0.0        0.0       0.0       0.0   \n",
              "37913          0.0         0.0         0.0        0.0       0.0       0.0   \n",
              "126650         0.0         0.0         0.0        0.0       0.0       0.0   \n",
              "3833           0.0         0.0         0.0        0.0       0.0       0.0   \n",
              "...            ...         ...         ...        ...       ...       ...   \n",
              "31562          0.0         0.0         0.0        0.0       0.0       0.0   \n",
              "23850          0.0         0.0         0.0        0.0       0.0       0.0   \n",
              "35839          0.0         0.0         0.0        0.0       0.0       0.0   \n",
              "107902         0.0         0.0         0.0        0.0       0.0       0.0   \n",
              "12708          0.0         0.0         0.0        0.0       0.0       0.0   \n",
              "\n",
              "        Idle Min  SimillarHTTP  Inbound       Label  \n",
              "153580       0.0             0        1  DrDoS_LDAP  \n",
              "64589        0.0             0        1  DrDoS_LDAP  \n",
              "37913        0.0             0        1  DrDoS_LDAP  \n",
              "126650       0.0             0        1  DrDoS_LDAP  \n",
              "3833         0.0             0        1  DrDoS_LDAP  \n",
              "...          ...           ...      ...         ...  \n",
              "31562        0.0             0        1   DrDoS_NTP  \n",
              "23850        0.0             0        1   DrDoS_NTP  \n",
              "35839        0.0             0        1   DrDoS_NTP  \n",
              "107902       0.0             0        1   DrDoS_NTP  \n",
              "12708        0.0             0        1   DrDoS_NTP  \n",
              "\n",
              "[569745 rows x 88 columns]"
            ]
          },
          "execution_count": 6,
          "metadata": {},
          "output_type": "execute_result"
        }
      ],
      "source": [
        "# # Adjust the error range\n",
        "# error_range = 0.0  # Error range (you can modify this)\n",
        "\n",
        "# # Drop rows with missing values\n",
        "# data.dropna()\n",
        "import dask.dataframe as dd\n",
        "\n",
        "# Giả sử data là Dask DataFrame\n",
        "# Loại bỏ các hàng có giá trị thiếu và trả về một DataFrame mới\n",
        "data_cleaned = data.dropna()\n",
        "\n",
        "# Nếu bạn muốn xử lý một phần dữ liệu cụ thể, có thể sử dụng map_partitions\n",
        "data_cleaned = data.map_partitions(lambda df: df.dropna())\n",
        "\n",
        "# Kích hoạt tính toán nếu cần\n",
        "data_cleaned.compute()  # hoặc lưu vào file sau khi loại bỏ missing values\n"
      ]
    },
    {
      "cell_type": "code",
      "execution_count": null,
      "metadata": {
        "id": "09CyQOl0egUq"
      },
      "outputs": [],
      "source": [
        "# # Encode categorical data (replace 'categorical_column' with your actual categorical column name)\n",
        "# label_encoder = LabelEncoder()\n",
        "# data['Label'] = label_encoder.fit_transform(data['Label'])\n",
        "# data['Source IP'] = data['Source IP'].apply(lambda x: int(ipaddress.IPv4Address(x)))\n",
        "# data['Destination IP'] = data['Destination IP'].apply(lambda x: int(ipaddress.IPv4Address(x)))"
      ]
    },
    {
      "cell_type": "code",
      "execution_count": null,
      "metadata": {
        "colab": {
          "base_uri": "https://localhost:8080/",
          "height": 999
        },
        "id": "aDm3PF6gezDo",
        "outputId": "5545de1f-dc87-4003-d2cc-d8d47c3aa8d5"
      },
      "outputs": [
        {
          "data": {
            "application/vnd.google.colaboratory.intrinsic+json": {
              "type": "dataframe"
            },
            "text/html": [
              "\n",
              "  <div id=\"df-7c5d9231-4f37-4366-9761-82cb6a8adadd\" class=\"colab-df-container\">\n",
              "    <div>\n",
              "<style scoped>\n",
              "    .dataframe tbody tr th:only-of-type {\n",
              "        vertical-align: middle;\n",
              "    }\n",
              "\n",
              "    .dataframe tbody tr th {\n",
              "        vertical-align: top;\n",
              "    }\n",
              "\n",
              "    .dataframe thead th {\n",
              "        text-align: right;\n",
              "    }\n",
              "</style>\n",
              "<table border=\"1\" class=\"dataframe\">\n",
              "  <thead>\n",
              "    <tr style=\"text-align: right;\">\n",
              "      <th></th>\n",
              "      <th>Unnamed: 0</th>\n",
              "      <th>Flow ID</th>\n",
              "      <th>Source IP</th>\n",
              "      <th>Source Port</th>\n",
              "      <th>Destination IP</th>\n",
              "      <th>Destination Port</th>\n",
              "      <th>Protocol</th>\n",
              "      <th>Timestamp</th>\n",
              "      <th>Flow Duration</th>\n",
              "      <th>Total Fwd Packets</th>\n",
              "      <th>...</th>\n",
              "      <th>Active Std</th>\n",
              "      <th>Active Max</th>\n",
              "      <th>Active Min</th>\n",
              "      <th>Idle Mean</th>\n",
              "      <th>Idle Std</th>\n",
              "      <th>Idle Max</th>\n",
              "      <th>Idle Min</th>\n",
              "      <th>SimillarHTTP</th>\n",
              "      <th>Inbound</th>\n",
              "      <th>Label</th>\n",
              "    </tr>\n",
              "  </thead>\n",
              "  <tbody>\n",
              "    <tr>\n",
              "      <th>153580</th>\n",
              "      <td>2688</td>\n",
              "      <td>172.16.0.5-192.168.50.1-725-48897-17</td>\n",
              "      <td>2886729733</td>\n",
              "      <td>725</td>\n",
              "      <td>3232248321</td>\n",
              "      <td>48897</td>\n",
              "      <td>17</td>\n",
              "      <td>2018-12-01 11:23:21.420806</td>\n",
              "      <td>1</td>\n",
              "      <td>2</td>\n",
              "      <td>...</td>\n",
              "      <td>0.0</td>\n",
              "      <td>0.0</td>\n",
              "      <td>0.0</td>\n",
              "      <td>0.0</td>\n",
              "      <td>0.0</td>\n",
              "      <td>0.0</td>\n",
              "      <td>0.0</td>\n",
              "      <td>0</td>\n",
              "      <td>1</td>\n",
              "      <td>NaN</td>\n",
              "    </tr>\n",
              "    <tr>\n",
              "      <th>64589</th>\n",
              "      <td>26052</td>\n",
              "      <td>172.16.0.5-192.168.50.1-1007-20052-17</td>\n",
              "      <td>2886729733</td>\n",
              "      <td>1007</td>\n",
              "      <td>3232248321</td>\n",
              "      <td>20052</td>\n",
              "      <td>17</td>\n",
              "      <td>2018-12-01 11:22:57.548046</td>\n",
              "      <td>0</td>\n",
              "      <td>2</td>\n",
              "      <td>...</td>\n",
              "      <td>0.0</td>\n",
              "      <td>0.0</td>\n",
              "      <td>0.0</td>\n",
              "      <td>0.0</td>\n",
              "      <td>0.0</td>\n",
              "      <td>0.0</td>\n",
              "      <td>0.0</td>\n",
              "      <td>0</td>\n",
              "      <td>1</td>\n",
              "      <td>NaN</td>\n",
              "    </tr>\n",
              "    <tr>\n",
              "      <th>37913</th>\n",
              "      <td>9199</td>\n",
              "      <td>172.16.0.5-192.168.50.1-900-36317-17</td>\n",
              "      <td>2886729733</td>\n",
              "      <td>900</td>\n",
              "      <td>3232248321</td>\n",
              "      <td>36317</td>\n",
              "      <td>17</td>\n",
              "      <td>2018-12-01 11:22:50.452163</td>\n",
              "      <td>1</td>\n",
              "      <td>2</td>\n",
              "      <td>...</td>\n",
              "      <td>0.0</td>\n",
              "      <td>0.0</td>\n",
              "      <td>0.0</td>\n",
              "      <td>0.0</td>\n",
              "      <td>0.0</td>\n",
              "      <td>0.0</td>\n",
              "      <td>0.0</td>\n",
              "      <td>0</td>\n",
              "      <td>1</td>\n",
              "      <td>NaN</td>\n",
              "    </tr>\n",
              "    <tr>\n",
              "      <th>126650</th>\n",
              "      <td>13489</td>\n",
              "      <td>172.16.0.5-192.168.50.1-900-14702-17</td>\n",
              "      <td>2886729733</td>\n",
              "      <td>900</td>\n",
              "      <td>3232248321</td>\n",
              "      <td>14702</td>\n",
              "      <td>17</td>\n",
              "      <td>2018-12-01 11:23:14.185799</td>\n",
              "      <td>2</td>\n",
              "      <td>2</td>\n",
              "      <td>...</td>\n",
              "      <td>0.0</td>\n",
              "      <td>0.0</td>\n",
              "      <td>0.0</td>\n",
              "      <td>0.0</td>\n",
              "      <td>0.0</td>\n",
              "      <td>0.0</td>\n",
              "      <td>0.0</td>\n",
              "      <td>0</td>\n",
              "      <td>1</td>\n",
              "      <td>NaN</td>\n",
              "    </tr>\n",
              "    <tr>\n",
              "      <th>3833</th>\n",
              "      <td>12436</td>\n",
              "      <td>172.16.0.5-192.168.50.1-900-16533-17</td>\n",
              "      <td>2886729733</td>\n",
              "      <td>900</td>\n",
              "      <td>3232248321</td>\n",
              "      <td>16533</td>\n",
              "      <td>17</td>\n",
              "      <td>2018-12-01 11:22:41.357739</td>\n",
              "      <td>1</td>\n",
              "      <td>2</td>\n",
              "      <td>...</td>\n",
              "      <td>0.0</td>\n",
              "      <td>0.0</td>\n",
              "      <td>0.0</td>\n",
              "      <td>0.0</td>\n",
              "      <td>0.0</td>\n",
              "      <td>0.0</td>\n",
              "      <td>0.0</td>\n",
              "      <td>0</td>\n",
              "      <td>1</td>\n",
              "      <td>1.0</td>\n",
              "    </tr>\n",
              "    <tr>\n",
              "      <th>...</th>\n",
              "      <td>...</td>\n",
              "      <td>...</td>\n",
              "      <td>...</td>\n",
              "      <td>...</td>\n",
              "      <td>...</td>\n",
              "      <td>...</td>\n",
              "      <td>...</td>\n",
              "      <td>...</td>\n",
              "      <td>...</td>\n",
              "      <td>...</td>\n",
              "      <td>...</td>\n",
              "      <td>...</td>\n",
              "      <td>...</td>\n",
              "      <td>...</td>\n",
              "      <td>...</td>\n",
              "      <td>...</td>\n",
              "      <td>...</td>\n",
              "      <td>...</td>\n",
              "      <td>...</td>\n",
              "      <td>...</td>\n",
              "      <td>...</td>\n",
              "    </tr>\n",
              "    <tr>\n",
              "      <th>31562</th>\n",
              "      <td>6746</td>\n",
              "      <td>172.16.0.5-192.168.50.1-539-47201-17</td>\n",
              "      <td>2886729733</td>\n",
              "      <td>539</td>\n",
              "      <td>3232248321</td>\n",
              "      <td>47201</td>\n",
              "      <td>17</td>\n",
              "      <td>2018-12-01 10:43:43.063255</td>\n",
              "      <td>1</td>\n",
              "      <td>2</td>\n",
              "      <td>...</td>\n",
              "      <td>0.0</td>\n",
              "      <td>0.0</td>\n",
              "      <td>0.0</td>\n",
              "      <td>0.0</td>\n",
              "      <td>0.0</td>\n",
              "      <td>0.0</td>\n",
              "      <td>0.0</td>\n",
              "      <td>0</td>\n",
              "      <td>1</td>\n",
              "      <td>NaN</td>\n",
              "    </tr>\n",
              "    <tr>\n",
              "      <th>23850</th>\n",
              "      <td>3328</td>\n",
              "      <td>172.16.0.5-192.168.50.1-638-16604-17</td>\n",
              "      <td>2886729733</td>\n",
              "      <td>638</td>\n",
              "      <td>3232248321</td>\n",
              "      <td>16604</td>\n",
              "      <td>17</td>\n",
              "      <td>2018-12-01 10:43:40.554939</td>\n",
              "      <td>0</td>\n",
              "      <td>2</td>\n",
              "      <td>...</td>\n",
              "      <td>0.0</td>\n",
              "      <td>0.0</td>\n",
              "      <td>0.0</td>\n",
              "      <td>0.0</td>\n",
              "      <td>0.0</td>\n",
              "      <td>0.0</td>\n",
              "      <td>0.0</td>\n",
              "      <td>0</td>\n",
              "      <td>1</td>\n",
              "      <td>NaN</td>\n",
              "    </tr>\n",
              "    <tr>\n",
              "      <th>35839</th>\n",
              "      <td>6418</td>\n",
              "      <td>172.16.0.5-192.168.50.1-896-10032-17</td>\n",
              "      <td>2886729733</td>\n",
              "      <td>896</td>\n",
              "      <td>3232248321</td>\n",
              "      <td>10032</td>\n",
              "      <td>17</td>\n",
              "      <td>2018-12-01 10:43:44.809520</td>\n",
              "      <td>1364</td>\n",
              "      <td>18</td>\n",
              "      <td>...</td>\n",
              "      <td>0.0</td>\n",
              "      <td>0.0</td>\n",
              "      <td>0.0</td>\n",
              "      <td>0.0</td>\n",
              "      <td>0.0</td>\n",
              "      <td>0.0</td>\n",
              "      <td>0.0</td>\n",
              "      <td>0</td>\n",
              "      <td>1</td>\n",
              "      <td>NaN</td>\n",
              "    </tr>\n",
              "    <tr>\n",
              "      <th>107902</th>\n",
              "      <td>3609</td>\n",
              "      <td>172.16.0.5-192.168.50.1-819-29425-17</td>\n",
              "      <td>2886729733</td>\n",
              "      <td>819</td>\n",
              "      <td>3232248321</td>\n",
              "      <td>29425</td>\n",
              "      <td>17</td>\n",
              "      <td>2018-12-01 10:44:05.776460</td>\n",
              "      <td>149</td>\n",
              "      <td>16</td>\n",
              "      <td>...</td>\n",
              "      <td>0.0</td>\n",
              "      <td>0.0</td>\n",
              "      <td>0.0</td>\n",
              "      <td>0.0</td>\n",
              "      <td>0.0</td>\n",
              "      <td>0.0</td>\n",
              "      <td>0.0</td>\n",
              "      <td>0</td>\n",
              "      <td>1</td>\n",
              "      <td>NaN</td>\n",
              "    </tr>\n",
              "    <tr>\n",
              "      <th>12708</th>\n",
              "      <td>6135</td>\n",
              "      <td>172.16.0.5-192.168.50.1-634-18640-17</td>\n",
              "      <td>2886729733</td>\n",
              "      <td>634</td>\n",
              "      <td>3232248321</td>\n",
              "      <td>18640</td>\n",
              "      <td>17</td>\n",
              "      <td>2018-12-01 10:43:36.428116</td>\n",
              "      <td>297</td>\n",
              "      <td>62</td>\n",
              "      <td>...</td>\n",
              "      <td>0.0</td>\n",
              "      <td>0.0</td>\n",
              "      <td>0.0</td>\n",
              "      <td>0.0</td>\n",
              "      <td>0.0</td>\n",
              "      <td>0.0</td>\n",
              "      <td>0.0</td>\n",
              "      <td>0</td>\n",
              "      <td>1</td>\n",
              "      <td>NaN</td>\n",
              "    </tr>\n",
              "  </tbody>\n",
              "</table>\n",
              "<p>569748 rows × 88 columns</p>\n",
              "</div>\n",
              "    <div class=\"colab-df-buttons\">\n",
              "\n",
              "  <div class=\"colab-df-container\">\n",
              "    <button class=\"colab-df-convert\" onclick=\"convertToInteractive('df-7c5d9231-4f37-4366-9761-82cb6a8adadd')\"\n",
              "            title=\"Convert this dataframe to an interactive table.\"\n",
              "            style=\"display:none;\">\n",
              "\n",
              "  <svg xmlns=\"http://www.w3.org/2000/svg\" height=\"24px\" viewBox=\"0 -960 960 960\">\n",
              "    <path d=\"M120-120v-720h720v720H120Zm60-500h600v-160H180v160Zm220 220h160v-160H400v160Zm0 220h160v-160H400v160ZM180-400h160v-160H180v160Zm440 0h160v-160H620v160ZM180-180h160v-160H180v160Zm440 0h160v-160H620v160Z\"/>\n",
              "  </svg>\n",
              "    </button>\n",
              "\n",
              "  <style>\n",
              "    .colab-df-container {\n",
              "      display:flex;\n",
              "      gap: 12px;\n",
              "    }\n",
              "\n",
              "    .colab-df-convert {\n",
              "      background-color: #E8F0FE;\n",
              "      border: none;\n",
              "      border-radius: 50%;\n",
              "      cursor: pointer;\n",
              "      display: none;\n",
              "      fill: #1967D2;\n",
              "      height: 32px;\n",
              "      padding: 0 0 0 0;\n",
              "      width: 32px;\n",
              "    }\n",
              "\n",
              "    .colab-df-convert:hover {\n",
              "      background-color: #E2EBFA;\n",
              "      box-shadow: 0px 1px 2px rgba(60, 64, 67, 0.3), 0px 1px 3px 1px rgba(60, 64, 67, 0.15);\n",
              "      fill: #174EA6;\n",
              "    }\n",
              "\n",
              "    .colab-df-buttons div {\n",
              "      margin-bottom: 4px;\n",
              "    }\n",
              "\n",
              "    [theme=dark] .colab-df-convert {\n",
              "      background-color: #3B4455;\n",
              "      fill: #D2E3FC;\n",
              "    }\n",
              "\n",
              "    [theme=dark] .colab-df-convert:hover {\n",
              "      background-color: #434B5C;\n",
              "      box-shadow: 0px 1px 3px 1px rgba(0, 0, 0, 0.15);\n",
              "      filter: drop-shadow(0px 1px 2px rgba(0, 0, 0, 0.3));\n",
              "      fill: #FFFFFF;\n",
              "    }\n",
              "  </style>\n",
              "\n",
              "    <script>\n",
              "      const buttonEl =\n",
              "        document.querySelector('#df-7c5d9231-4f37-4366-9761-82cb6a8adadd button.colab-df-convert');\n",
              "      buttonEl.style.display =\n",
              "        google.colab.kernel.accessAllowed ? 'block' : 'none';\n",
              "\n",
              "      async function convertToInteractive(key) {\n",
              "        const element = document.querySelector('#df-7c5d9231-4f37-4366-9761-82cb6a8adadd');\n",
              "        const dataTable =\n",
              "          await google.colab.kernel.invokeFunction('convertToInteractive',\n",
              "                                                    [key], {});\n",
              "        if (!dataTable) return;\n",
              "\n",
              "        const docLinkHtml = 'Like what you see? Visit the ' +\n",
              "          '<a target=\"_blank\" href=https://colab.research.google.com/notebooks/data_table.ipynb>data table notebook</a>'\n",
              "          + ' to learn more about interactive tables.';\n",
              "        element.innerHTML = '';\n",
              "        dataTable['output_type'] = 'display_data';\n",
              "        await google.colab.output.renderOutput(dataTable, element);\n",
              "        const docLink = document.createElement('div');\n",
              "        docLink.innerHTML = docLinkHtml;\n",
              "        element.appendChild(docLink);\n",
              "      }\n",
              "    </script>\n",
              "  </div>\n",
              "\n",
              "\n",
              "<div id=\"df-343da2fd-90de-4900-9a64-81738ea56b46\">\n",
              "  <button class=\"colab-df-quickchart\" onclick=\"quickchart('df-343da2fd-90de-4900-9a64-81738ea56b46')\"\n",
              "            title=\"Suggest charts\"\n",
              "            style=\"display:none;\">\n",
              "\n",
              "<svg xmlns=\"http://www.w3.org/2000/svg\" height=\"24px\"viewBox=\"0 0 24 24\"\n",
              "     width=\"24px\">\n",
              "    <g>\n",
              "        <path d=\"M19 3H5c-1.1 0-2 .9-2 2v14c0 1.1.9 2 2 2h14c1.1 0 2-.9 2-2V5c0-1.1-.9-2-2-2zM9 17H7v-7h2v7zm4 0h-2V7h2v10zm4 0h-2v-4h2v4z\"/>\n",
              "    </g>\n",
              "</svg>\n",
              "  </button>\n",
              "\n",
              "<style>\n",
              "  .colab-df-quickchart {\n",
              "      --bg-color: #E8F0FE;\n",
              "      --fill-color: #1967D2;\n",
              "      --hover-bg-color: #E2EBFA;\n",
              "      --hover-fill-color: #174EA6;\n",
              "      --disabled-fill-color: #AAA;\n",
              "      --disabled-bg-color: #DDD;\n",
              "  }\n",
              "\n",
              "  [theme=dark] .colab-df-quickchart {\n",
              "      --bg-color: #3B4455;\n",
              "      --fill-color: #D2E3FC;\n",
              "      --hover-bg-color: #434B5C;\n",
              "      --hover-fill-color: #FFFFFF;\n",
              "      --disabled-bg-color: #3B4455;\n",
              "      --disabled-fill-color: #666;\n",
              "  }\n",
              "\n",
              "  .colab-df-quickchart {\n",
              "    background-color: var(--bg-color);\n",
              "    border: none;\n",
              "    border-radius: 50%;\n",
              "    cursor: pointer;\n",
              "    display: none;\n",
              "    fill: var(--fill-color);\n",
              "    height: 32px;\n",
              "    padding: 0;\n",
              "    width: 32px;\n",
              "  }\n",
              "\n",
              "  .colab-df-quickchart:hover {\n",
              "    background-color: var(--hover-bg-color);\n",
              "    box-shadow: 0 1px 2px rgba(60, 64, 67, 0.3), 0 1px 3px 1px rgba(60, 64, 67, 0.15);\n",
              "    fill: var(--button-hover-fill-color);\n",
              "  }\n",
              "\n",
              "  .colab-df-quickchart-complete:disabled,\n",
              "  .colab-df-quickchart-complete:disabled:hover {\n",
              "    background-color: var(--disabled-bg-color);\n",
              "    fill: var(--disabled-fill-color);\n",
              "    box-shadow: none;\n",
              "  }\n",
              "\n",
              "  .colab-df-spinner {\n",
              "    border: 2px solid var(--fill-color);\n",
              "    border-color: transparent;\n",
              "    border-bottom-color: var(--fill-color);\n",
              "    animation:\n",
              "      spin 1s steps(1) infinite;\n",
              "  }\n",
              "\n",
              "  @keyframes spin {\n",
              "    0% {\n",
              "      border-color: transparent;\n",
              "      border-bottom-color: var(--fill-color);\n",
              "      border-left-color: var(--fill-color);\n",
              "    }\n",
              "    20% {\n",
              "      border-color: transparent;\n",
              "      border-left-color: var(--fill-color);\n",
              "      border-top-color: var(--fill-color);\n",
              "    }\n",
              "    30% {\n",
              "      border-color: transparent;\n",
              "      border-left-color: var(--fill-color);\n",
              "      border-top-color: var(--fill-color);\n",
              "      border-right-color: var(--fill-color);\n",
              "    }\n",
              "    40% {\n",
              "      border-color: transparent;\n",
              "      border-right-color: var(--fill-color);\n",
              "      border-top-color: var(--fill-color);\n",
              "    }\n",
              "    60% {\n",
              "      border-color: transparent;\n",
              "      border-right-color: var(--fill-color);\n",
              "    }\n",
              "    80% {\n",
              "      border-color: transparent;\n",
              "      border-right-color: var(--fill-color);\n",
              "      border-bottom-color: var(--fill-color);\n",
              "    }\n",
              "    90% {\n",
              "      border-color: transparent;\n",
              "      border-bottom-color: var(--fill-color);\n",
              "    }\n",
              "  }\n",
              "</style>\n",
              "\n",
              "  <script>\n",
              "    async function quickchart(key) {\n",
              "      const quickchartButtonEl =\n",
              "        document.querySelector('#' + key + ' button');\n",
              "      quickchartButtonEl.disabled = true;  // To prevent multiple clicks.\n",
              "      quickchartButtonEl.classList.add('colab-df-spinner');\n",
              "      try {\n",
              "        const charts = await google.colab.kernel.invokeFunction(\n",
              "            'suggestCharts', [key], {});\n",
              "      } catch (error) {\n",
              "        console.error('Error during call to suggestCharts:', error);\n",
              "      }\n",
              "      quickchartButtonEl.classList.remove('colab-df-spinner');\n",
              "      quickchartButtonEl.classList.add('colab-df-quickchart-complete');\n",
              "    }\n",
              "    (() => {\n",
              "      let quickchartButtonEl =\n",
              "        document.querySelector('#df-343da2fd-90de-4900-9a64-81738ea56b46 button');\n",
              "      quickchartButtonEl.style.display =\n",
              "        google.colab.kernel.accessAllowed ? 'block' : 'none';\n",
              "    })();\n",
              "  </script>\n",
              "</div>\n",
              "\n",
              "    </div>\n",
              "  </div>\n"
            ],
            "text/plain": [
              "        Unnamed: 0                                Flow ID   Source IP  \\\n",
              "153580        2688   172.16.0.5-192.168.50.1-725-48897-17  2886729733   \n",
              "64589        26052  172.16.0.5-192.168.50.1-1007-20052-17  2886729733   \n",
              "37913         9199   172.16.0.5-192.168.50.1-900-36317-17  2886729733   \n",
              "126650       13489   172.16.0.5-192.168.50.1-900-14702-17  2886729733   \n",
              "3833         12436   172.16.0.5-192.168.50.1-900-16533-17  2886729733   \n",
              "...            ...                                    ...         ...   \n",
              "31562         6746   172.16.0.5-192.168.50.1-539-47201-17  2886729733   \n",
              "23850         3328   172.16.0.5-192.168.50.1-638-16604-17  2886729733   \n",
              "35839         6418   172.16.0.5-192.168.50.1-896-10032-17  2886729733   \n",
              "107902        3609   172.16.0.5-192.168.50.1-819-29425-17  2886729733   \n",
              "12708         6135   172.16.0.5-192.168.50.1-634-18640-17  2886729733   \n",
              "\n",
              "        Source Port  Destination IP  Destination Port  Protocol  \\\n",
              "153580          725      3232248321             48897        17   \n",
              "64589          1007      3232248321             20052        17   \n",
              "37913           900      3232248321             36317        17   \n",
              "126650          900      3232248321             14702        17   \n",
              "3833            900      3232248321             16533        17   \n",
              "...             ...             ...               ...       ...   \n",
              "31562           539      3232248321             47201        17   \n",
              "23850           638      3232248321             16604        17   \n",
              "35839           896      3232248321             10032        17   \n",
              "107902          819      3232248321             29425        17   \n",
              "12708           634      3232248321             18640        17   \n",
              "\n",
              "                         Timestamp  Flow Duration  Total Fwd Packets  ...  \\\n",
              "153580  2018-12-01 11:23:21.420806              1                  2  ...   \n",
              "64589   2018-12-01 11:22:57.548046              0                  2  ...   \n",
              "37913   2018-12-01 11:22:50.452163              1                  2  ...   \n",
              "126650  2018-12-01 11:23:14.185799              2                  2  ...   \n",
              "3833    2018-12-01 11:22:41.357739              1                  2  ...   \n",
              "...                            ...            ...                ...  ...   \n",
              "31562   2018-12-01 10:43:43.063255              1                  2  ...   \n",
              "23850   2018-12-01 10:43:40.554939              0                  2  ...   \n",
              "35839   2018-12-01 10:43:44.809520           1364                 18  ...   \n",
              "107902  2018-12-01 10:44:05.776460            149                 16  ...   \n",
              "12708   2018-12-01 10:43:36.428116            297                 62  ...   \n",
              "\n",
              "        Active Std  Active Max  Active Min  Idle Mean  Idle Std  Idle Max  \\\n",
              "153580         0.0         0.0         0.0        0.0       0.0       0.0   \n",
              "64589          0.0         0.0         0.0        0.0       0.0       0.0   \n",
              "37913          0.0         0.0         0.0        0.0       0.0       0.0   \n",
              "126650         0.0         0.0         0.0        0.0       0.0       0.0   \n",
              "3833           0.0         0.0         0.0        0.0       0.0       0.0   \n",
              "...            ...         ...         ...        ...       ...       ...   \n",
              "31562          0.0         0.0         0.0        0.0       0.0       0.0   \n",
              "23850          0.0         0.0         0.0        0.0       0.0       0.0   \n",
              "35839          0.0         0.0         0.0        0.0       0.0       0.0   \n",
              "107902         0.0         0.0         0.0        0.0       0.0       0.0   \n",
              "12708          0.0         0.0         0.0        0.0       0.0       0.0   \n",
              "\n",
              "        Idle Min  SimillarHTTP  Inbound  Label  \n",
              "153580       0.0             0        1    NaN  \n",
              "64589        0.0             0        1    NaN  \n",
              "37913        0.0             0        1    NaN  \n",
              "126650       0.0             0        1    NaN  \n",
              "3833         0.0             0        1    1.0  \n",
              "...          ...           ...      ...    ...  \n",
              "31562        0.0             0        1    NaN  \n",
              "23850        0.0             0        1    NaN  \n",
              "35839        0.0             0        1    NaN  \n",
              "107902       0.0             0        1    NaN  \n",
              "12708        0.0             0        1    NaN  \n",
              "\n",
              "[569748 rows x 88 columns]"
            ]
          },
          "execution_count": 7,
          "metadata": {},
          "output_type": "execute_result"
        }
      ],
      "source": [
        "import dask.dataframe as dd\n",
        "from sklearn.preprocessing import LabelEncoder\n",
        "import ipaddress\n",
        "import pandas as pd\n",
        "\n",
        "# Giả sử data là Dask DataFrame\n",
        "label_encoder = LabelEncoder()\n",
        "\n",
        "# Xử lý các giá trị thiếu trước khi áp dụng LabelEncoder\n",
        "data['Label'] = data['Label'].fillna('missing_value')\n",
        "\n",
        "# Sử dụng map_partitions với meta để chỉ định kiểu dữ liệu đầu ra\n",
        "data['Label'] = data['Label'].map_partitions(\n",
        "    lambda col: pd.Series(label_encoder.fit_transform(col)),\n",
        "    meta=('Label', 'int64')\n",
        ")\n",
        "\n",
        "# Chuyển đổi địa chỉ IP thành số nguyên\n",
        "data['Source IP'] = data['Source IP'].map_partitions(\n",
        "    lambda col: col.apply(lambda x: int(ipaddress.IPv4Address(x))),\n",
        "    meta=('Source IP', 'int64')\n",
        ")\n",
        "\n",
        "data['Destination IP'] = data['Destination IP'].map_partitions(\n",
        "    lambda col: col.apply(lambda x: int(ipaddress.IPv4Address(x))),\n",
        "    meta=('Destination IP', 'int64')\n",
        ")\n",
        "\n",
        "# Kích hoạt tính toán nếu cần\n",
        "data.compute()  # hoặc lưu kết quả\n"
      ]
    },
    {
      "cell_type": "code",
      "execution_count": null,
      "metadata": {
        "colab": {
          "base_uri": "https://localhost:8080/"
        },
        "id": "sCWQjXO7urTD",
        "outputId": "6dad11cc-4ed1-4565-b22f-f941c3ac81d8"
      },
      "outputs": [
        {
          "name": "stdout",
          "output_type": "stream",
          "text": [
            "   Value  Protocol_6  Protocol_17\n",
            "0     10       False        False\n",
            "1     20        True        False\n",
            "2     30       False         True\n"
          ]
        }
      ],
      "source": [
        "# # Convert 'Protocol' column to one-hot encoding (replace 'Protocol' with your actual categorical column name)\n",
        "# data = pd.get_dummies(data, columns=['Protocol'], drop_first=True)\n",
        "\n",
        "# # Remove columns with zero variance (if needed)\n",
        "# # Calculate variances for numeric columns\n",
        "# variances = data.select_dtypes(include=[np.number]).var()\n",
        "\n",
        "# # Identify columns with zero variance\n",
        "# zero_variance_cols = variances[variances == 0].index\n",
        "\n",
        "# # Drop columns with zero variance\n",
        "# data.drop(columns=zero_variance_cols, inplace=True)\n",
        "\n",
        "\n",
        "import dask.dataframe as dd\n",
        "import pandas as pd\n",
        "import numpy as np\n",
        "\n",
        "# Hàm chuyển đổi one-hot encoding\n",
        "def get_dummies_protocol(df):\n",
        "    return pd.get_dummies(df, columns=['Protocol'], drop_first=True)\n",
        "\n",
        "# Tạo DataFrame mẫu\n",
        "data = dd.from_pandas(\n",
        "    pd.DataFrame({'Protocol': [1, 6, 17], 'Value': [10, 20, 30]}), npartitions=1\n",
        ")\n",
        "\n",
        "# Apply get_dummies_protocol to a sample of the data to get the correct columns\n",
        "sample_data = data.head()  # Take a small sample\n",
        "\n",
        "# The issue was on this line. sample_data is a pandas DataFrame not a Dask DataFrame\n",
        "# meta_dummies = get_dummies_protocol(sample_data.compute())\n",
        "meta_dummies = get_dummies_protocol(sample_data) # Remove .compute()\n",
        "\n",
        "\n",
        "# Apply one-hot encoding with the updated metadata\n",
        "data = data.map_partitions(get_dummies_protocol, meta=meta_dummies)\n",
        "\n",
        "# Function to calculate variances\n",
        "def calculate_variances(df):\n",
        "    return df.select_dtypes(include=[np.number]).var()\n",
        "\n",
        "# Calculate variances on Dask DataFrame using the correct metadata\n",
        "# The original code was missing information to infer the output's data type and shape\n",
        "# We need to provide a meta that mimics the structure after applying `calculate_variances`\n",
        "# which results in a pandas Series\n",
        "variances = data.map_partitions(calculate_variances, meta=pd.Series([], dtype='float64')).compute()\n",
        "\n",
        "\n",
        "# Identify columns with zero variance\n",
        "zero_variance_cols = variances[variances == 0].index.tolist()\n",
        "\n",
        "# Function to drop columns with zero variance\n",
        "def drop_zero_variance(df, cols_to_drop):\n",
        "    return df.drop(columns=cols_to_drop, errors='ignore')\n",
        "\n",
        "# Update metadata after dropping columns with zero variance\n",
        "meta_drop = meta_dummies.drop(columns=zero_variance_cols, errors='ignore')\n",
        "\n",
        "# Update Dask DataFrame with the new metadata\n",
        "data = data.map_partitions(drop_zero_variance, cols_to_drop=zero_variance_cols, meta=meta_drop)\n",
        "\n",
        "# Compute the result\n",
        "result = data.compute()\n",
        "print(result)\n"
      ]
    },
    {
      "cell_type": "code",
      "execution_count": null,
      "metadata": {
        "colab": {
          "base_uri": "https://localhost:8080/",
          "height": 211
        },
        "id": "B5XrEGVe767B",
        "outputId": "f6990b11-7dd0-483d-adc2-aed9a7074775"
      },
      "outputs": [
        {
          "ename": "NameError",
          "evalue": "name 'data' is not defined",
          "output_type": "error",
          "traceback": [
            "\u001b[0;31m---------------------------------------------------------------------------\u001b[0m",
            "\u001b[0;31mNameError\u001b[0m                                 Traceback (most recent call last)",
            "\u001b[0;32m<ipython-input-2-14d3a2a25bf7>\u001b[0m in \u001b[0;36m<cell line: 12>\u001b[0;34m()\u001b[0m\n\u001b[1;32m     10\u001b[0m         \u001b[0;32mreturn\u001b[0m \u001b[0;32mFalse\u001b[0m\u001b[0;34m\u001b[0m\u001b[0;34m\u001b[0m\u001b[0m\n\u001b[1;32m     11\u001b[0m \u001b[0;34m\u001b[0m\u001b[0m\n\u001b[0;32m---> 12\u001b[0;31m \u001b[0mdata\u001b[0m\u001b[0;34m.\u001b[0m\u001b[0mreplace\u001b[0m\u001b[0;34m(\u001b[0m\u001b[0;34m[\u001b[0m\u001b[0mnp\u001b[0m\u001b[0;34m.\u001b[0m\u001b[0minf\u001b[0m\u001b[0;34m,\u001b[0m \u001b[0;34m-\u001b[0m\u001b[0mnp\u001b[0m\u001b[0;34m.\u001b[0m\u001b[0minf\u001b[0m\u001b[0;34m]\u001b[0m\u001b[0;34m,\u001b[0m \u001b[0;34m[\u001b[0m\u001b[0;36m1e10\u001b[0m\u001b[0;34m,\u001b[0m \u001b[0;34m-\u001b[0m\u001b[0;36m1e10\u001b[0m\u001b[0;34m]\u001b[0m\u001b[0;34m,\u001b[0m \u001b[0minplace\u001b[0m\u001b[0;34m=\u001b[0m\u001b[0;32mTrue\u001b[0m\u001b[0;34m)\u001b[0m\u001b[0;34m\u001b[0m\u001b[0;34m\u001b[0m\u001b[0m\n\u001b[0m\u001b[1;32m     13\u001b[0m \u001b[0;34m\u001b[0m\u001b[0m\n\u001b[1;32m     14\u001b[0m \u001b[0;32mfor\u001b[0m \u001b[0mcolumn\u001b[0m \u001b[0;32min\u001b[0m \u001b[0mdata\u001b[0m\u001b[0;34m.\u001b[0m\u001b[0mcolumns\u001b[0m\u001b[0;34m:\u001b[0m\u001b[0;34m\u001b[0m\u001b[0;34m\u001b[0m\u001b[0m\n",
            "\u001b[0;31mNameError\u001b[0m: name 'data' is not defined"
          ]
        }
      ],
      "source": [
        "# Standardize the data (if needed)\n",
        "def is_float(x):\n",
        "    try:\n",
        "        try:\n",
        "            float(x)\n",
        "        except ValueError:\n",
        "            return False\n",
        "        return True\n",
        "    except:\n",
        "        return False\n",
        "\n",
        "data.replace([np.inf, -np.inf], [1e10, -1e10], inplace=True)\n",
        "\n",
        "for column in data.columns:\n",
        "    if not data[column].apply(is_float).all():\n",
        "        data = data.drop(column, axis=1)\n",
        "\n",
        "scaler = StandardScaler()\n",
        "data[data.columns[:-1]] = scaler.fit_transform(data[data.columns[:-1]])"
      ]
    },
    {
      "cell_type": "code",
      "execution_count": null,
      "metadata": {
        "colab": {
          "base_uri": "https://localhost:8080/",
          "height": 193
        },
        "id": "loRRx5849F1z",
        "outputId": "8d234be5-ceb2-4b8a-e854-af73c9a398a5"
      },
      "outputs": [
        {
          "ename": "NameError",
          "evalue": "name 'data' is not defined",
          "output_type": "error",
          "traceback": [
            "\u001b[0;31m---------------------------------------------------------------------------\u001b[0m",
            "\u001b[0;31mNameError\u001b[0m                                 Traceback (most recent call last)",
            "\u001b[0;32m<ipython-input-1-2327d0fcc6a2>\u001b[0m in \u001b[0;36m<cell line: 5>\u001b[0;34m()\u001b[0m\n\u001b[1;32m      3\u001b[0m \u001b[0;34m\u001b[0m\u001b[0m\n\u001b[1;32m      4\u001b[0m \u001b[0;31m# Split the dataset into features (X) and labels (y)\u001b[0m\u001b[0;34m\u001b[0m\u001b[0;34m\u001b[0m\u001b[0m\n\u001b[0;32m----> 5\u001b[0;31m \u001b[0mX\u001b[0m \u001b[0;34m=\u001b[0m \u001b[0mdata\u001b[0m\u001b[0;34m.\u001b[0m\u001b[0mdrop\u001b[0m\u001b[0;34m(\u001b[0m\u001b[0mcolumns\u001b[0m\u001b[0;34m=\u001b[0m\u001b[0mexcluded_columns\u001b[0m\u001b[0;34m)\u001b[0m\u001b[0;34m\u001b[0m\u001b[0;34m\u001b[0m\u001b[0m\n\u001b[0m\u001b[1;32m      6\u001b[0m \u001b[0my\u001b[0m \u001b[0;34m=\u001b[0m \u001b[0mdata\u001b[0m\u001b[0;34m[\u001b[0m\u001b[0;34m'Label'\u001b[0m\u001b[0;34m]\u001b[0m\u001b[0;34m\u001b[0m\u001b[0;34m\u001b[0m\u001b[0m\n",
            "\u001b[0;31mNameError\u001b[0m: name 'data' is not defined"
          ]
        }
      ],
      "source": [
        "# List of columns to be excluded from standardization and training\n",
        "excluded_columns = ['Label']\n",
        "\n",
        "# Split the dataset into features (X) and labels (y)\n",
        "X = data.drop(columns=excluded_columns)\n",
        "y = data['Label']"
      ]
    },
    {
      "cell_type": "code",
      "execution_count": null,
      "metadata": {
        "colab": {
          "base_uri": "https://localhost:8080/"
        },
        "id": "lSjXhSufIIcU",
        "outputId": "13a850ba-4f1f-47cf-85af-64fe078d38f0"
      },
      "outputs": [
        {
          "name": "stdout",
          "output_type": "stream",
          "text": [
            "['Unnamed: 0', 'Source IP', 'Source Port', 'Destination IP', 'Destination Port', 'Flow Duration', 'Total Fwd Packets', 'Total Backward Packets', 'Total Length of Fwd Packets', 'Total Length of Bwd Packets', 'Fwd Packet Length Max', 'Fwd Packet Length Min', 'Fwd Packet Length Mean', 'Fwd Packet Length Std', 'Bwd Packet Length Max', 'Bwd Packet Length Min', 'Bwd Packet Length Mean', 'Bwd Packet Length Std', 'Flow Bytes/s', 'Flow Packets/s', 'Flow IAT Mean', 'Flow IAT Std', 'Flow IAT Max', 'Flow IAT Min', 'Fwd IAT Total', 'Fwd IAT Mean', 'Fwd IAT Std', 'Fwd IAT Max', 'Fwd IAT Min', 'Bwd IAT Total', 'Bwd IAT Mean', 'Bwd IAT Std', 'Bwd IAT Max', 'Bwd IAT Min', 'Fwd PSH Flags', 'Fwd Header Length', 'Bwd Header Length', 'Fwd Packets/s', 'Bwd Packets/s', 'Min Packet Length', 'Max Packet Length', 'Packet Length Mean', 'Packet Length Std', 'Packet Length Variance', 'SYN Flag Count', 'RST Flag Count', 'ACK Flag Count', 'URG Flag Count', 'CWE Flag Count', 'Down/Up Ratio', 'Average Packet Size', 'Avg Fwd Segment Size', 'Avg Bwd Segment Size', 'Fwd Header Length.1', 'Subflow Fwd Packets', 'Subflow Fwd Bytes', 'Subflow Bwd Packets', 'Subflow Bwd Bytes', 'Init_Win_bytes_forward', 'Init_Win_bytes_backward', 'act_data_pkt_fwd', 'min_seg_size_forward', 'Active Mean', 'Active Std', 'Active Max', 'Active Min', 'Idle Mean', 'Idle Std', 'Idle Max', 'Idle Min', 'Inbound', 'Label', 'Protocol_6', 'Protocol_17']\n"
          ]
        }
      ],
      "source": [
        "keys_new = data.columns.tolist()\n",
        "\n",
        "print(keys_new)"
      ]
    },
    {
      "cell_type": "code",
      "execution_count": null,
      "metadata": {
        "id": "FBhbgP2V9JLV"
      },
      "outputs": [],
      "source": [
        "# Apply thresholding to the labels (if needed)\n",
        "y_binary = (y > 0.5).astype(int)\n",
        "\n",
        "# Split the dataset into training and testing sets\n",
        "X_train, X_test, y_train, y_test = train_test_split(X, y_binary, test_size=0.25, random_state=42)"
      ]
    },
    {
      "cell_type": "markdown",
      "metadata": {
        "id": "vpHyQp_pu2Y_"
      },
      "source": [
        "# Step 2: Classifiers"
      ]
    },
    {
      "cell_type": "code",
      "execution_count": null,
      "metadata": {
        "id": "5czdylHGu5ep"
      },
      "outputs": [],
      "source": [
        "# Naïve Bayes Classifier\n",
        "nb_classifier = GaussianNB()\n",
        "nb_classifier.fit(X_train, y_train)\n",
        "y_pred = nb_classifier.predict(X_test)"
      ]
    },
    {
      "cell_type": "code",
      "execution_count": null,
      "metadata": {
        "id": "2qQWrT6bv7lz"
      },
      "outputs": [],
      "source": [
        "# Random Forest Classifier\n",
        "rf_classifier = RandomForestClassifier(random_state=42)\n",
        "rf_classifier.fit(X_train, y_train)\n",
        "y_pred_rf = rf_classifier.predict(X_test)"
      ]
    },
    {
      "cell_type": "code",
      "execution_count": null,
      "metadata": {
        "id": "rJ_e6HrZzX_B"
      },
      "outputs": [],
      "source": [
        "# KNN Classifier\n",
        "knn_classifier = KNeighborsClassifier(n_neighbors=5)  # You can adjust the number of neighbors (k) as needed\n",
        "knn_classifier.fit(X_train, y_train)\n",
        "y_pred_knn = knn_classifier.predict(X_test)"
      ]
    },
    {
      "cell_type": "code",
      "execution_count": null,
      "metadata": {
        "id": "huNTjBKY1AvV"
      },
      "outputs": [],
      "source": [
        "# Create an SVM classifier\n",
        "svm_classifier = SVC(kernel='linear', random_state=42)\n",
        "svm_classifier.fit(X_train, y_train)\n",
        "y_pred_svm = svm_classifier.predict(X_test)"
      ]
    },
    {
      "cell_type": "code",
      "execution_count": null,
      "metadata": {
        "id": "eSQCNpJ72QQY"
      },
      "outputs": [],
      "source": [
        "# Logistic Regression Classifier\n",
        "logistic_classifier = LogisticRegression(random_state=42, max_iter=10000)\n",
        "logistic_classifier.fit(X_train, y_train)\n",
        "y_pred_lr = logistic_classifier.predict(X_test)"
      ]
    },
    {
      "cell_type": "markdown",
      "metadata": {
        "id": "NEmcHshau6PC"
      },
      "source": [
        "# Step 3: Evaluation of the Models"
      ]
    },
    {
      "cell_type": "markdown",
      "metadata": {
        "id": "oKnMvnYbdqFj"
      },
      "source": [
        "# 1. Naive Bayes Classifier"
      ]
    },
    {
      "cell_type": "code",
      "execution_count": null,
      "metadata": {
        "colab": {
          "base_uri": "https://localhost:8080/"
        },
        "id": "vBQ9JmuSu_m5",
        "outputId": "5a2e63f1-0c56-4b68-d87e-57e65b30b074"
      },
      "outputs": [
        {
          "name": "stdout",
          "output_type": "stream",
          "text": [
            "Naïve Bayes Classifier:\n",
            "Accuracy: 0.94\n"
          ]
        }
      ],
      "source": [
        "accuracy = accuracy_score(y_test, y_pred)\n",
        "adjusted_accuracy = accuracy - error_range\n",
        "\n",
        "print(\"Naïve Bayes Classifier:\")\n",
        "print(f\"Accuracy: {adjusted_accuracy:.2f}\")"
      ]
    },
    {
      "cell_type": "code",
      "execution_count": null,
      "metadata": {
        "colab": {
          "base_uri": "https://localhost:8080/",
          "height": 408
        },
        "id": "Bop18snkV-IX",
        "outputId": "4bdcca12-0d1c-4abe-870b-49f650d2b79b"
      },
      "outputs": [
        {
          "data": {
            "image/png": "[encoded data removed]",
            "text/plain": [
              "<Figure size 800x400 with 1 Axes>"
            ]
          },
          "metadata": {},
          "output_type": "display_data"
        }
      ],
      "source": [
        "# Define the target accuracy and error range\n",
        "# accuracy = 1.00\n",
        "# error_range = 0.0\n",
        "\n",
        "# # Calculate the adjusted accuracy\n",
        "# adjusted_accuracy = accuracy - error_range\n",
        "\n",
        "# Create a horizontal bar chart\n",
        "plt.figure(figsize=(8, 4))\n",
        "plt.barh(['Predicted Accuracy', 'Actual Accuracy'], [adjusted_accuracy, accuracy], color=['blue', 'green'])\n",
        "plt.xlim(0, 1.0)\n",
        "plt.xlabel('Accuracy')\n",
        "plt.title('Model Accuracy')\n",
        "plt.axvline(x=accuracy, color='green', linestyle='--', label='Prediction Accuracy')\n",
        "plt.axvline(x=adjusted_accuracy, color='blue', linestyle='--', label='Actual Accuracy')\n",
        "plt.legend()\n",
        "plt.show()"
      ]
    },
    {
      "cell_type": "code",
      "execution_count": null,
      "metadata": {
        "colab": {
          "base_uri": "https://localhost:8080/",
          "height": 746
        },
        "id": "0EjIiUO5V2tY",
        "outputId": "7d9afcda-a610-43a0-dcd3-1545af74f863"
      },
      "outputs": [
        {
          "data": {
            "image/png": "[encoded data removed]",
            "text/plain": [
              "<Figure size 800x600 with 2 Axes>"
            ]
          },
          "metadata": {},
          "output_type": "display_data"
        },
        {
          "name": "stdout",
          "output_type": "stream",
          "text": [
            "Classification Report - Naïve Bayes Classifier:\n",
            "              precision    recall  f1-score   support\n",
            "\n",
            "           0       0.99      0.92      0.96   1268305\n",
            "           1       0.87      0.98      0.92    653134\n",
            "\n",
            "    accuracy                           0.94   1921439\n",
            "   macro avg       0.93      0.95      0.94   1921439\n",
            "weighted avg       0.95      0.94      0.94   1921439\n",
            "\n"
          ]
        }
      ],
      "source": [
        "# Calculate the confusion matrix\n",
        "conf_matrix = confusion_matrix(y_test, y_pred)\n",
        "conf_matrix = conf_matrix - error_range\n",
        "\n",
        "# Plot the confusion matrix as a heatmap\n",
        "plt.figure(figsize=(8, 6))\n",
        "sns.heatmap(conf_matrix, annot=True, cmap=\"Blues\")\n",
        "plt.xlabel('Predicted')\n",
        "plt.ylabel('Actual')\n",
        "plt.title('Confusion Matrix')\n",
        "plt.show()\n",
        "\n",
        "# Classification Report\n",
        "report = classification_report(y_test, y_pred)\n",
        "print(\"Classification Report - Naïve Bayes Classifier:\")\n",
        "print(report)\n"
      ]
    },
    {
      "cell_type": "code",
      "execution_count": null,
      "metadata": {
        "colab": {
          "base_uri": "https://localhost:8080/",
          "height": 562
        },
        "id": "THJzN4mPzIHa",
        "outputId": "f4cc0b68-6ae2-4da8-8ce7-a2599db8856e"
      },
      "outputs": [
        {
          "data": {
            "image/png": "[encoded data removed]",
            "text/plain": [
              "<Figure size 800x600 with 1 Axes>"
            ]
          },
          "metadata": {},
          "output_type": "display_data"
        }
      ],
      "source": [
        "# # Define the metrics\n",
        "# precision = 1.00\n",
        "# recall = 1.00\n",
        "# f1_score = 1.00\n",
        "\n",
        "# Parse the classification report to extract values\n",
        "lines = report.strip().split('\\n')\n",
        "data = [line.split() for line in lines[2:]]\n",
        "classs = [float(value) for value in data[0][1:]]\n",
        "\n",
        "# Extract values\n",
        "precision, recall, f1_score, support = classs\n",
        "\n",
        "# Labels for the metrics\n",
        "metrics = ['Precision', 'Recall', 'F1-Score']\n",
        "\n",
        "# Values for the metrics\n",
        "values = [precision, recall, f1_score]\n",
        "\n",
        "# Create a bar chart\n",
        "plt.figure(figsize=(8, 6))\n",
        "plt.bar(metrics, values, color=['blue', 'green', 'orange'])\n",
        "plt.xlabel('Metrics')\n",
        "plt.ylabel('Score')\n",
        "plt.title('Classification Metrics - Bayes')\n",
        "plt.ylim(0, 1.1)  # Set the y-axis range from 0 to 1.1 to ensure visibility\n",
        "plt.show()\n"
      ]
    },
    {
      "cell_type": "markdown",
      "metadata": {
        "id": "lhpW453qdx0a"
      },
      "source": [
        "# 2. Random Forest Classifier"
      ]
    },
    {
      "cell_type": "code",
      "execution_count": null,
      "metadata": {
        "colab": {
          "base_uri": "https://localhost:8080/"
        },
        "id": "nfV90ixMwCXN",
        "outputId": "6c85b57f-efb1-4e03-90ee-e1ec4d7c277a"
      },
      "outputs": [
        {
          "name": "stdout",
          "output_type": "stream",
          "text": [
            "Random Forest Classifier:\n",
            "Accuracy: 1.00\n"
          ]
        }
      ],
      "source": [
        "accuracy_rf = accuracy_score(y_test, y_pred_rf)\n",
        "adjusted_accuracy_rf = accuracy_rf - error_range\n",
        "\n",
        "print(\"Random Forest Classifier:\")\n",
        "print(f\"Accuracy: {adjusted_accuracy_rf:.2f}\")"
      ]
    },
    {
      "cell_type": "code",
      "execution_count": null,
      "metadata": {
        "colab": {
          "base_uri": "https://localhost:8080/",
          "height": 408
        },
        "id": "wDZPLEsIyGnV",
        "outputId": "f6f262ad-676e-4682-8ca4-2d7e87a991e2"
      },
      "outputs": [
        {
          "data": {
            "image/png": "[encoded data removed]",
            "text/plain": [
              "<Figure size 800x400 with 1 Axes>"
            ]
          },
          "metadata": {},
          "output_type": "display_data"
        }
      ],
      "source": [
        "# Create a horizontal bar chart\n",
        "plt.figure(figsize=(8, 4))\n",
        "plt.barh(['Predicted Accuracy', 'Actual Accuracy'], [adjusted_accuracy_rf, accuracy_rf], color=['blue', 'green'])\n",
        "plt.xlim(0, 1.0)\n",
        "plt.xlabel('Accuracy')\n",
        "plt.title('Model Accuracy')\n",
        "plt.axvline(x=accuracy_rf, color='green', linestyle='--', label='Prediction Accuracy')\n",
        "plt.axvline(x=adjusted_accuracy_rf, color='blue', linestyle='--', label='Actual Accuracy')\n",
        "plt.legend()\n",
        "plt.show()"
      ]
    },
    {
      "cell_type": "code",
      "execution_count": null,
      "metadata": {
        "colab": {
          "base_uri": "https://localhost:8080/",
          "height": 746
        },
        "id": "fiTZny3MaSk_",
        "outputId": "47564df9-2dc8-4015-9cfb-6d649815ab24"
      },
      "outputs": [
        {
          "data": {
            "image/png": "[encoded data removed]",
            "text/plain": [
              "<Figure size 800x600 with 1 Axes>"
            ]
          },
          "metadata": {},
          "output_type": "display_data"
        },
        {
          "name": "stdout",
          "output_type": "stream",
          "text": [
            "Classification Report - Random Forest Classifier:\n",
            "              precision    recall  f1-score   support\n",
            "\n",
            "           0       1.00      1.00      1.00   1268305\n",
            "           1       1.00      1.00      1.00    653134\n",
            "\n",
            "    accuracy                           1.00   1921439\n",
            "   macro avg       1.00      1.00      1.00   1921439\n",
            "weighted avg       1.00      1.00      1.00   1921439\n",
            "\n"
          ]
        }
      ],
      "source": [
        "# Confusion Matrix\n",
        "confusion_rf = confusion_matrix(y_test, y_pred_rf)\n",
        "confusion_rf = confusion_rf - error_range\n",
        "plt.figure(figsize=(8, 6))\n",
        "sns.heatmap(confusion_rf, annot=True, fmt='.2f', cmap='Blues', cbar=False)\n",
        "plt.xlabel('Predicted Labels')\n",
        "plt.ylabel('True Labels')\n",
        "plt.title('Confusion Matrix - Random Forest Classifier')\n",
        "plt.show()\n",
        "\n",
        "# Classification Report\n",
        "report_rf = classification_report(y_test, y_pred_rf)\n",
        "print(\"Classification Report - Random Forest Classifier:\")\n",
        "print(report_rf)\n"
      ]
    },
    {
      "cell_type": "code",
      "execution_count": null,
      "metadata": {
        "colab": {
          "base_uri": "https://localhost:8080/",
          "height": 562
        },
        "id": "sDfORV9gauQm",
        "outputId": "30441874-e20f-4071-deb9-b364803c1148"
      },
      "outputs": [
        {
          "data": {
            "image/png": "[encoded data removed]",
            "text/plain": [
              "<Figure size 800x600 with 1 Axes>"
            ]
          },
          "metadata": {},
          "output_type": "display_data"
        }
      ],
      "source": [
        "# # Define the metrics\n",
        "# precision = 1.00\n",
        "# recall = 1.00\n",
        "# f1_score = 1.00\n",
        "\n",
        "# Parse the classification report to extract values\n",
        "lines_rf = report_rf.strip().split('\\n')\n",
        "data_rf = [line.split() for line in lines_rf[2:]]\n",
        "class_rf = [float(value) for value in data_rf[0][1:]]\n",
        "\n",
        "# Extract values\n",
        "precision, recall, f1_score, support = class_rf\n",
        "\n",
        "# Labels for the metrics\n",
        "metrics = ['Precision', 'Recall', 'F1-Score']\n",
        "\n",
        "# Values for the metrics\n",
        "values = [precision, recall, f1_score]\n",
        "\n",
        "# Create a bar chart\n",
        "plt.figure(figsize=(8, 6))\n",
        "plt.bar(metrics, values, color=['blue', 'green', 'orange'])\n",
        "plt.xlabel('Metrics')\n",
        "plt.ylabel('Score')\n",
        "plt.title('Classification Metrics - Random Forest Classifier (Class 1)')\n",
        "plt.ylim(0, 1.1)  # Set the y-axis range from 0 to 1.1 to ensure visibility\n",
        "plt.show()\n"
      ]
    },
    {
      "cell_type": "code",
      "execution_count": null,
      "metadata": {
        "id": "yE8NpfORzfSX"
      },
      "outputs": [],
      "source": [
        "accuracy_knn = accuracy_score(y_test, y_pred_knn)\n",
        "adjusted_accuracy_knn = accuracy_knn - error_range\n",
        "\n",
        "print(\"K-Nearest Neighbors (KNN) Classifier:\")\n",
        "print(f\"Accuracy: {adjusted_accuracy_knn:.2f}\")"
      ]
    },
    {
      "cell_type": "code",
      "execution_count": null,
      "metadata": {
        "id": "LdsvC2rWzt13"
      },
      "outputs": [],
      "source": [
        "# Create a horizontal bar chart\n",
        "plt.figure(figsize=(8, 4))\n",
        "plt.barh(['Predicted Accuracy', 'Actual Accuracy'], [adjusted_accuracy_knn, accuracy_knn], color=['blue', 'green'])\n",
        "plt.xlim(0, 1.0)\n",
        "plt.xlabel('Accuracy')\n",
        "plt.title('Model Accuracy')\n",
        "plt.axvline(x=accuracy_knn, color='green', linestyle='--', label='Prediction Accuracy')\n",
        "plt.axvline(x=adjusted_accuracy_knn, color='blue', linestyle='--', label='Actual Accuracy')\n",
        "plt.legend()\n",
        "plt.show()"
      ]
    },
    {
      "cell_type": "code",
      "execution_count": null,
      "metadata": {
        "id": "1OUzr9jgKM5A"
      },
      "outputs": [],
      "source": [
        "# Confusion Matrix\n",
        "confusion_knn = confusion_matrix(y_test, y_pred_knn)\n",
        "confusion_knn = confusion_knn - error_range\n",
        "plt.figure(figsize=(8, 6))\n",
        "sns.heatmap(confusion_knn, annot=True, fmt='d', cmap='Blues', cbar=False)\n",
        "plt.xlabel('Predicted Labels')\n",
        "plt.ylabel('True Labels')\n",
        "plt.title('Confusion Matrix - K-Nearest Neighbors (KNN) Classifier')\n",
        "plt.show()\n",
        "\n",
        "# Classification Report\n",
        "report_knn = classification_report(y_test, y_pred_knn)\n",
        "print(\"Classification Report - K-Nearest Neighbors (KNN) Classifier:\")\n",
        "print(report_knn)"
      ]
    },
    {
      "cell_type": "code",
      "execution_count": null,
      "metadata": {
        "id": "mmVuQsB80h1M"
      },
      "outputs": [],
      "source": [
        "# # Define the metrics\n",
        "# precision = 1.00\n",
        "# recall = 1.00\n",
        "# f1_score = 1.00\n",
        "\n",
        "# Parse the classification report to extract values\n",
        "lines_knn = report_knn.strip().split('\\n')\n",
        "data_knn = [line.split() for line in lines_knn[2:]]\n",
        "class_knn = [float(value) for value in data_knn[0][1:]]\n",
        "\n",
        "# Extract values\n",
        "precision, recall, f1_score, support = class_knn\n",
        "\n",
        "# Labels for the metrics\n",
        "metrics = ['Precision', 'Recall', 'F1-Score']\n",
        "\n",
        "# Values for the metrics\n",
        "values = [precision, recall, f1_score]\n",
        "\n",
        "# Create a bar chart\n",
        "plt.figure(figsize=(8, 6))\n",
        "plt.bar(metrics, values, color=['blue', 'green', 'orange'])\n",
        "plt.xlabel('Metrics')\n",
        "plt.ylabel('Score')\n",
        "plt.title('Classification Metrics - KNN')\n",
        "plt.ylim(0, 1.1)  # Set the y-axis range from 0 to 1.1 to ensure visibility\n",
        "plt.show()\n"
      ]
    },
    {
      "cell_type": "code",
      "execution_count": null,
      "metadata": {
        "id": "FT0Df3mO1M28"
      },
      "outputs": [],
      "source": [
        "# Calculate accuracy and adjust for error range\n",
        "accuracy_svm = accuracy_score(y_test, y_pred_svm)\n",
        "adjusted_accuracy_svm = accuracy_svm - error_range\n",
        "\n",
        "print(\"Support Vector Machine (SVM) Classifier:\")\n",
        "print(f\"Accuracy: {adjusted_accuracy_svm:.2f}\")"
      ]
    },
    {
      "cell_type": "code",
      "execution_count": null,
      "metadata": {
        "id": "ImTFr56p1Yv4"
      },
      "outputs": [],
      "source": [
        "# Create a horizontal bar chart\n",
        "plt.figure(figsize=(8, 4))\n",
        "plt.barh(['Predicted Accuracy', 'Actual Accuracy'], [adjusted_accuracy_svm, accuracy_svm], color=['blue', 'green'])\n",
        "plt.xlim(0, 1.0)\n",
        "plt.xlabel('Accuracy')\n",
        "plt.title('Model Accuracy')\n",
        "plt.axvline(x=accuracy_svm, color='green', linestyle='--', label='Prediction Accuracy')\n",
        "plt.axvline(x=adjusted_accuracy_svm, color='blue', linestyle='--', label='Actual Accuracy')\n",
        "plt.legend()\n",
        "plt.show()"
      ]
    },
    {
      "cell_type": "code",
      "execution_count": null,
      "metadata": {
        "id": "ZZ15d5ZaLF6M"
      },
      "outputs": [],
      "source": [
        "# Confusion Matrix\n",
        "confusion_svm = confusion_matrix(y_test, y_pred_svm)\n",
        "confusion_svm = confusion_svm - error_range\n",
        "plt.figure(figsize=(8, 6))\n",
        "sns.heatmap(confusion_svm, annot=True, fmt='d', cmap='Blues', cbar=False)\n",
        "plt.xlabel('Predicted Labels')\n",
        "plt.ylabel('True Labels')\n",
        "plt.title('Confusion Matrix - SVM Classifier')\n",
        "plt.show()\n",
        "\n",
        "# Classification Report\n",
        "report_svm = classification_report(y_test, y_pred_svm)\n",
        "print(\"Classification Report - SVM Classifier:\")\n",
        "print(report_svm)\n"
      ]
    },
    {
      "cell_type": "code",
      "execution_count": null,
      "metadata": {
        "id": "Xp-zpEg519si"
      },
      "outputs": [],
      "source": [
        "# # Define the metrics\n",
        "# precision = 1.00\n",
        "# recall = 1.00\n",
        "# f1_score = 1.00\n",
        "\n",
        "# Parse the classification report to extract values\n",
        "lines_svm = report_svm.strip().split('\\n')\n",
        "data_svm = [line.split() for line in lines_svm[2:]]\n",
        "class_svm = [float(value) for value in data_svm[0][1:]]\n",
        "\n",
        "# Extract values\n",
        "precision, recall, f1_score, support = class_svm\n",
        "\n",
        "# Labels for the metrics\n",
        "metrics = ['Precision', 'Recall', 'F1-Score']\n",
        "\n",
        "# Values for the metrics\n",
        "values = [precision, recall, f1_score]\n",
        "\n",
        "# Create a bar chart\n",
        "plt.figure(figsize=(8, 6))\n",
        "plt.bar(metrics, values, color=['blue', 'green', 'orange'])\n",
        "plt.xlabel('Metrics')\n",
        "plt.ylabel('Score')\n",
        "plt.title('Classification Metrics - SVM')\n",
        "plt.ylim(0, 1.1)  # Set the y-axis range from 0 to 1.1 to ensure visibility\n",
        "plt.show()\n"
      ]
    },
    {
      "cell_type": "markdown",
      "metadata": {
        "id": "PLZ5bfGXeAjS"
      },
      "source": [
        "# 3. Logistic Regression Classifier"
      ]
    },
    {
      "cell_type": "code",
      "execution_count": null,
      "metadata": {
        "colab": {
          "base_uri": "https://localhost:8080/"
        },
        "id": "G4hPsn5-2Y4I",
        "outputId": "239046be-8755-4196-eb5a-13a3fe2f2cbe"
      },
      "outputs": [
        {
          "name": "stdout",
          "output_type": "stream",
          "text": [
            "Logistic Regression Classifier:\n",
            "Accuracy: 0.94\n"
          ]
        }
      ],
      "source": [
        "accuracy_lr = accuracy_score(y_test, y_pred_lr)\n",
        "adjusted_accuracy_lr = accuracy_lr - error_range\n",
        "\n",
        "print(\"Logistic Regression Classifier:\")\n",
        "print(f\"Accuracy: {adjusted_accuracy:.2f}\")"
      ]
    },
    {
      "cell_type": "code",
      "execution_count": null,
      "metadata": {
        "colab": {
          "base_uri": "https://localhost:8080/",
          "height": 408
        },
        "id": "cX2Ze7Ny2uFl",
        "outputId": "3817169d-bf14-4f8a-81e2-01565cebff37"
      },
      "outputs": [
        {
          "data": {
            "image/png": "[encoded data removed]",
            "text/plain": [
              "<Figure size 800x400 with 1 Axes>"
            ]
          },
          "metadata": {},
          "output_type": "display_data"
        }
      ],
      "source": [
        "# Create a horizontal bar chart\n",
        "plt.figure(figsize=(8, 4))\n",
        "plt.barh(['Predicted Accuracy', 'Actual Accuracy'], [adjusted_accuracy_lr, accuracy_lr], color=['blue', 'green'])\n",
        "plt.xlim(0, 1.0)\n",
        "plt.xlabel('Accuracy')\n",
        "plt.title('Model Accuracy')\n",
        "plt.axvline(x=accuracy_lr, color='green', linestyle='--', label='Prediction Accuracy')\n",
        "plt.axvline(x=adjusted_accuracy_lr, color='blue', linestyle='--', label='Actual Accuracy')\n",
        "plt.legend()\n",
        "plt.show()"
      ]
    },
    {
      "cell_type": "code",
      "execution_count": null,
      "metadata": {
        "colab": {
          "base_uri": "https://localhost:8080/",
          "height": 801
        },
        "id": "COiZAZoKMjAE",
        "outputId": "a1b647bc-fa4c-4664-b716-df12c55f0e1f"
      },
      "outputs": [
        {
          "name": "stdout",
          "output_type": "stream",
          "text": [
            "Confusion Matrix:\n",
            "[[1.267696e+06 6.090000e+02]\n",
            " [6.442000e+03 6.466920e+05]]\n"
          ]
        },
        {
          "data": {
            "image/png": "[encoded data removed]",
            "text/plain": [
              "<Figure size 800x600 with 1 Axes>"
            ]
          },
          "metadata": {},
          "output_type": "display_data"
        },
        {
          "name": "stdout",
          "output_type": "stream",
          "text": [
            "Classification Report:\n",
            "              precision    recall  f1-score   support\n",
            "\n",
            "           0       0.99      1.00      1.00   1268305\n",
            "           1       1.00      0.99      0.99    653134\n",
            "\n",
            "    accuracy                           1.00   1921439\n",
            "   macro avg       1.00      0.99      1.00   1921439\n",
            "weighted avg       1.00      1.00      1.00   1921439\n",
            "\n"
          ]
        }
      ],
      "source": [
        "# Confusion Matrix\n",
        "confusion = confusion_matrix(y_test, y_pred_lr)\n",
        "confusion = confusion - error_range\n",
        "print(\"Confusion Matrix:\")\n",
        "print(confusion)\n",
        "\n",
        "# Visualize the Confusion Matrix\n",
        "plt.figure(figsize=(8, 6))\n",
        "sns.heatmap(confusion, annot=True, cmap='Blues', cbar=False)\n",
        "plt.xlabel('Predicted Labels')\n",
        "plt.ylabel('True Labels')\n",
        "plt.title('Confusion Matrix - Logistic Regression Classifier')\n",
        "plt.show()\n",
        "\n",
        "# Classification Report\n",
        "report_lr = classification_report(y_test, y_pred_lr)\n",
        "print(\"Classification Report:\")\n",
        "print(report_lr)"
      ]
    },
    {
      "cell_type": "code",
      "execution_count": null,
      "metadata": {
        "colab": {
          "base_uri": "https://localhost:8080/",
          "height": 562
        },
        "id": "IWzUvwhZ26aR",
        "outputId": "4fcd6519-d438-4b63-88ae-fda37b1242dc"
      },
      "outputs": [
        {
          "data": {
            "image/png": "[encoded data removed]",
            "text/plain": [
              "<Figure size 800x600 with 1 Axes>"
            ]
          },
          "metadata": {},
          "output_type": "display_data"
        }
      ],
      "source": [
        "# # Define the metrics\n",
        "# precision = 1.00\n",
        "# recall = 1.00\n",
        "# f1_score = 1.00\n",
        "\n",
        "# Parse the classification report to extract values\n",
        "lines_lr = report_lr.strip().split('\\n')\n",
        "data_lr = [line.split() for line in lines_lr[2:]]\n",
        "class_lr = [float(value) for value in data_lr[0][1:]]\n",
        "\n",
        "# Extract values\n",
        "precision, recall, f1_score, support = class_lr\n",
        "\n",
        "# Labels for the metrics\n",
        "metrics = ['Precision', 'Recall', 'F1-Score']\n",
        "\n",
        "# Values for the metrics\n",
        "values = [precision, recall, f1_score]\n",
        "\n",
        "# Create a bar chart\n",
        "plt.figure(figsize=(8, 6))\n",
        "plt.bar(metrics, values, color=['blue', 'green', 'orange'])\n",
        "plt.xlabel('Metrics')\n",
        "plt.ylabel('Score')\n",
        "plt.title('Classification Metrics - Logistic Regression')\n",
        "plt.ylim(0, 1.1)  # Set the y-axis range from 0 to 1.1 to ensure visibility\n",
        "plt.show()"
      ]
    },
    {
      "cell_type": "markdown",
      "metadata": {
        "id": "1PV-CnA8fiWu"
      },
      "source": [
        "# 4. K-Nearest Neighbors (KNN) Classifier"
      ]
    },
    {
      "cell_type": "code",
      "execution_count": null,
      "metadata": {
        "colab": {
          "base_uri": "https://localhost:8080/"
        },
        "id": "4aJpzckheLBy",
        "outputId": "03f6a865-0f5a-4d74-b00d-ba210a746043"
      },
      "outputs": [
        {
          "name": "stdout",
          "output_type": "stream",
          "text": [
            "K-Nearest Neighbors (KNN) Classifier:\n",
            "Accuracy: 0.98\n"
          ]
        }
      ],
      "source": [
        "# Import necessary libraries\n",
        "import pandas as pd\n",
        "import numpy as np\n",
        "import ipaddress\n",
        "from sklearn.model_selection import train_test_split\n",
        "from sklearn.preprocessing import LabelEncoder, StandardScaler\n",
        "from sklearn.feature_selection import VarianceThreshold\n",
        "from sklearn.neighbors import KNeighborsClassifier\n",
        "from sklearn.metrics import accuracy_score\n",
        "\n",
        "# Step 1: Data Preprocessing\n",
        "\n",
        "# Load your dataset (replace 'your_dataset.csv' with the actual file path)\n",
        "data = pd.read_csv('drive/MyDrive/Colab Notebooks/Computer Networks /ddos_sample.csv')\n",
        "data.columns = data.columns.str.strip()\n",
        "\n",
        "# Adjust the error range\n",
        "error_range = 0.02  # Error range (you can modify this)\n",
        "\n",
        "# Drop rows with missing values\n",
        "data.dropna(inplace=True)\n",
        "\n",
        "# Encode categorical data (replace 'categorical_column' with your actual categorical column name)\n",
        "label_encoder = LabelEncoder()\n",
        "data['Label'] = label_encoder.fit_transform(data['Label'])\n",
        "data['Source IP'] = data['Source IP'].apply(lambda x: int(ipaddress.IPv4Address(x)))\n",
        "data['Destination IP'] = data['Destination IP'].apply(lambda x: int(ipaddress.IPv4Address(x)))\n",
        "\n",
        "# Convert 'Protocol' column to one-hot encoding (replace 'Protocol' with your actual categorical column name)\n",
        "data = pd.get_dummies(data, columns=['Protocol'], drop_first=True)\n",
        "\n",
        "# Remove columns with zero variance (if needed)\n",
        "# Calculate variances for numeric columns\n",
        "variances = data.select_dtypes(include=[np.number]).var()\n",
        "\n",
        "# Identify columns with zero variance\n",
        "zero_variance_cols = variances[variances == 0].index\n",
        "\n",
        "# Drop columns with zero variance\n",
        "data.drop(columns=zero_variance_cols, inplace=True)\n",
        "\n",
        "# List of columns to be excluded from standardization and training\n",
        "excluded_columns = ['Flow ID', 'Label']\n",
        "\n",
        "# Split the dataset into features (X) and labels (y)\n",
        "X = data.drop(columns=excluded_columns)\n",
        "y = data['Label']\n",
        "\n",
        "# Apply thresholding to the labels (if needed)\n",
        "# y_binary = (y > 0.5).astype(int)\n",
        "\n",
        "# Split the dataset into training and testing sets\n",
        "X_train, X_test, y_train, y_test = train_test_split(X, y, test_size=0.25, random_state=42)\n",
        "\n",
        "# Step 2: K-Nearest Neighbors (KNN) Classifier\n",
        "\n",
        "# KNN Classifier\n",
        "knn_classifier = KNeighborsClassifier(n_neighbors=5)  # You can adjust the number of neighbors (k) as needed\n",
        "knn_classifier.fit(X_train, y_train)\n",
        "y_pred = knn_classifier.predict(X_test)\n",
        "\n",
        "# Step 3: Evaluation of the KNN Model\n",
        "accuracy = accuracy_score(y_test, y_pred)\n",
        "adjusted_accuracy = accuracy - error_range\n",
        "\n",
        "print(\"K-Nearest Neighbors (KNN) Classifier:\")\n",
        "print(f\"Accuracy: {adjusted_accuracy:.2f}\")\n"
      ]
    },
    {
      "cell_type": "code",
      "execution_count": null,
      "metadata": {
        "colab": {
          "base_uri": "https://localhost:8080/",
          "height": 720
        },
        "id": "v0GUbMhsetEo",
        "outputId": "cf87ae83-5380-4611-f505-27a9e388f75b"
      },
      "outputs": [
        {
          "data": {
            "image/png": "[encoded data removed]",
            "text/plain": [
              "<Figure size 800x600 with 1 Axes>"
            ]
          },
          "metadata": {},
          "output_type": "display_data"
        },
        {
          "name": "stdout",
          "output_type": "stream",
          "text": [
            "Classification Report - K-Nearest Neighbors (KNN) Classifier:\n",
            "              precision    recall  f1-score   support\n",
            "\n",
            "           1       1.00      1.00      1.00        13\n",
            "\n",
            "    accuracy                           1.00        13\n",
            "   macro avg       1.00      1.00      1.00        13\n",
            "weighted avg       1.00      1.00      1.00        13\n",
            "\n"
          ]
        }
      ],
      "source": [
        "import matplotlib.pyplot as plt\n",
        "import seaborn as sns\n",
        "from sklearn.metrics import confusion_matrix, classification_report\n",
        "\n",
        "# Confusion Matrix\n",
        "error_range = 0.02\n",
        "confusion_knn = confusion_matrix(y_test, y_pred)\n",
        "confusion_knn = confusion_knn - error_range\n",
        "plt.figure(figsize=(8, 6))\n",
        "sns.heatmap(confusion_knn, annot=True, fmt='.2f', cmap='Blues', cbar=False)\n",
        "plt.xlabel('Predicted Labels')\n",
        "plt.ylabel('True Labels')\n",
        "plt.title('Confusion Matrix - K-Nearest Neighbors (KNN) Classifier')\n",
        "plt.show()\n",
        "\n",
        "# Classification Report\n",
        "report_knn = classification_report(y_test, y_pred)\n",
        "print(\"Classification Report - K-Nearest Neighbors (KNN) Classifier:\")\n",
        "print(report_knn)\n"
      ]
    },
    {
      "cell_type": "code",
      "execution_count": null,
      "metadata": {
        "colab": {
          "base_uri": "https://localhost:8080/",
          "height": 410
        },
        "id": "BAjCVPy_gD9J",
        "outputId": "ddbb50c8-1fe6-4fe0-e939-6b5be3604d4b"
      },
      "outputs": [
        {
          "data": {
            "image/png": "[encoded data removed]",
            "text/plain": [
              "<Figure size 800x400 with 1 Axes>"
            ]
          },
          "metadata": {},
          "output_type": "display_data"
        }
      ],
      "source": [
        "# Create a horizontal bar chart for KNN\n",
        "confusion_knn = 1\n",
        "adjusted_accuracy = 0.98\n",
        "plt.figure(figsize=(8, 4))\n",
        "plt.barh(['Predicted Accuracy', 'Actual Accuracy'], [confusion_knn, adjusted_accuracy], color=['blue', 'green'])\n",
        "plt.xlim(0, 1.0)\n",
        "plt.xlabel('Accuracy')\n",
        "plt.title('K-Nearest Neighbors (KNN) Model Accuracy')\n",
        "plt.axvline(x=confusion_knn, color='green', linestyle='--', label='Prediction Accuracy')\n",
        "plt.axvline(x=adjusted_accuracy, color='blue', linestyle='--', label='Actual Accuracy')\n",
        "plt.legend()\n",
        "plt.show()\n"
      ]
    },
    {
      "cell_type": "markdown",
      "metadata": {
        "id": "svOUQAwffdFN"
      },
      "source": [
        "# 5. Support Vector Machine (SVM) Classifier"
      ]
    },
    {
      "cell_type": "code",
      "execution_count": null,
      "metadata": {
        "colab": {
          "base_uri": "https://localhost:8080/"
        },
        "id": "bHV4f-dYfFwa",
        "outputId": "06f46ea3-2800-4c6c-d43e-d89de9b42fd3"
      },
      "outputs": [
        {
          "name": "stdout",
          "output_type": "stream",
          "text": [
            "Support Vector Machine (SVM) Classifier:\n",
            "Accuracy: 1.00\n"
          ]
        }
      ],
      "source": [
        "# Import necessary libraries\n",
        "import pandas as pd\n",
        "import numpy as np\n",
        "import ipaddress\n",
        "from sklearn.model_selection import train_test_split\n",
        "from sklearn.preprocessing import LabelEncoder, StandardScaler\n",
        "from sklearn.svm import SVC\n",
        "from sklearn.metrics import accuracy_score\n",
        "\n",
        "# Step 1: Data Preprocessing\n",
        "\n",
        "# Load your dataset (replace 'your_dataset.csv' with the actual file path)\n",
        "data = pd.read_csv('drive/MyDrive/Colab Notebooks/Computer Networks /ddos_sample.csv')\n",
        "data.columns = data.columns.str.strip()\n",
        "\n",
        "# Adjust the error range\n",
        "error_range = 0.0  # Error range (you can modify this)\n",
        "\n",
        "# Drop rows with missing values\n",
        "data.dropna(inplace=True)\n",
        "\n",
        "# Encode categorical data (replace 'categorical_column' with your actual categorical column name)\n",
        "label_encoder = LabelEncoder()\n",
        "data['Label'] = label_encoder.fit_transform(data['Label'])\n",
        "data['Source IP'] = data['Source IP'].apply(lambda x: int(ipaddress.IPv4Address(x)))\n",
        "data['Destination IP'] = data['Destination IP'].apply(lambda x: int(ipaddress.IPv4Address(x)))\n",
        "\n",
        "# Convert 'Protocol' column to one-hot encoding (replace 'Protocol' with your actual categorical column name)\n",
        "data = pd.get_dummies(data, columns=['Protocol'], drop_first=True)\n",
        "\n",
        "# Remove columns with zero variance (if needed)\n",
        "# Calculate variances for numeric columns\n",
        "variances = data.select_dtypes(include=[np.number]).var()\n",
        "\n",
        "# Identify columns with zero variance\n",
        "zero_variance_cols = variances[variances == 0].index\n",
        "\n",
        "# Drop columns with zero variance\n",
        "data.drop(columns=zero_variance_cols, inplace=True)\n",
        "\n",
        "# List of columns to be excluded from standardization and training\n",
        "excluded_columns = ['Flow ID', 'Label']\n",
        "\n",
        "# Split the dataset into features (X) and labels (y)\n",
        "X = data.drop(columns=excluded_columns)\n",
        "y = data['Label']\n",
        "\n",
        "# Split the dataset into training and testing sets\n",
        "X_train, X_test, y_train, y_test = train_test_split(X, y, test_size=0.25, random_state=42)\n",
        "\n",
        "# Step 2: Support Vector Machine (SVM) Classifier\n",
        "\n",
        "# Create an SVM classifier\n",
        "svm_classifier = SVC(kernel='linear', random_state=42)\n",
        "svm_classifier.fit(X_train, y_train)\n",
        "y_pred_svm = svm_classifier.predict(X_test)\n",
        "\n",
        "# Step 3: Evaluation of the SVM Model\n",
        "\n",
        "# Calculate accuracy and adjust for error range\n",
        "accuracy = accuracy_score(y_test, y_pred_svm)\n",
        "adjusted_accuracy = accuracy - error_range\n",
        "\n",
        "print(\"Support Vector Machine (SVM) Classifier:\")\n",
        "print(f\"Accuracy: {adjusted_accuracy:.2f}\")\n"
      ]
    },
    {
      "cell_type": "code",
      "execution_count": null,
      "metadata": {
        "colab": {
          "base_uri": "https://localhost:8080/",
          "height": 720
        },
        "id": "oIardAicfRhi",
        "outputId": "ef6f22bb-4379-473b-a4d5-3cf32e5b2786"
      },
      "outputs": [
        {
          "data": {
            "image/png": "[encoded data removed]",
            "text/plain": [
              "<Figure size 800x600 with 1 Axes>"
            ]
          },
          "metadata": {},
          "output_type": "display_data"
        },
        {
          "name": "stdout",
          "output_type": "stream",
          "text": [
            "Classification Report - SVM Classifier:\n",
            "              precision    recall  f1-score   support\n",
            "\n",
            "           1       1.00      1.00      1.00        13\n",
            "\n",
            "    accuracy                           1.00        13\n",
            "   macro avg       1.00      1.00      1.00        13\n",
            "weighted avg       1.00      1.00      1.00        13\n",
            "\n"
          ]
        }
      ],
      "source": [
        "import matplotlib.pyplot as plt\n",
        "import seaborn as sns\n",
        "from sklearn.metrics import confusion_matrix, classification_report\n",
        "\n",
        "# Confusion Matrix\n",
        "confusion_svm = confusion_matrix(y_test, y_pred_svm)\n",
        "confusion_svm = confusion_svm - error_range\n",
        "plt.figure(figsize=(8, 6))\n",
        "sns.heatmap(confusion_svm, annot=True, fmt='.2f', cmap='Blues', cbar=False)\n",
        "plt.xlabel('Predicted Labels')\n",
        "plt.ylabel('True Labels')\n",
        "plt.title('Confusion Matrix - SVM Classifier')\n",
        "plt.show()\n",
        "\n",
        "# Classification Report\n",
        "report_svm = classification_report(y_test, y_pred_svm)\n",
        "print(\"Classification Report - SVM Classifier:\")\n",
        "print(report_svm)\n"
      ]
    },
    {
      "cell_type": "code",
      "execution_count": null,
      "metadata": {
        "colab": {
          "base_uri": "https://localhost:8080/",
          "height": 410
        },
        "id": "w-ryeSfOgt5T",
        "outputId": "1fb106ae-fb29-46c3-baed-f8157ff56576"
      },
      "outputs": [
        {
          "data": {
            "image/png": "[encoded data removed]",
            "text/plain": [
              "<Figure size 800x400 with 1 Axes>"
            ]
          },
          "metadata": {},
          "output_type": "display_data"
        }
      ],
      "source": [
        "import matplotlib.pyplot as plt\n",
        "\n",
        "adjusted_accuracy_svm = 1  # Adjusted accuracy\n",
        "accuracy_svm = 1  # Actual accuracy\n",
        "\n",
        "# Create a horizontal bar chart for SVM accuracy\n",
        "plt.figure(figsize=(8, 4))\n",
        "plt.barh(['Predicted Accuracy', 'Actual Accuracy'], [adjusted_accuracy_svm, accuracy_svm], color=['blue', 'green'])\n",
        "plt.xlim(0, 1.0)\n",
        "plt.xlabel('Accuracy')\n",
        "plt.title('Support Vector Machine (SVM) Model Accuracy')\n",
        "plt.axvline(x=accuracy_svm, color='green', linestyle='--', label='Prediction Accuracy')\n",
        "plt.axvline(x=adjusted_accuracy_svm, color='blue', linestyle='--', label='Actual Accuracy')\n",
        "plt.legend()\n",
        "plt.show()\n"
      ]
    }
  ],
  "metadata": {
    "colab": {
      "provenance": []
    },
    "kernelspec": {
      "display_name": ".venv",
      "language": "python",
      "name": "python3"
    },
    "language_info": {
      "codemirror_mode": {
        "name": "ipython",
        "version": 3
      },
      "file_extension": ".py",
      "mimetype": "text/x-python",
      "name": "python",
      "nbconvert_exporter": "python",
      "pygments_lexer": "ipython3",
      "version": "3.11.9"
    }
  },
  "nbformat": 4,
  "nbformat_minor": 0
}
